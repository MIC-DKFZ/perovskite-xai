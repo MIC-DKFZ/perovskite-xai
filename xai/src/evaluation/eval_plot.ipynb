{
 "cells": [
  {
   "cell_type": "code",
   "execution_count": 1,
   "metadata": {},
   "outputs": [
    {
     "name": "stderr",
     "output_type": "stream",
     "text": [
      "/home/l727n/miniconda3/envs/perovskite/lib/python3.9/site-packages/tqdm/auto.py:22: TqdmWarning: IProgress not found. Please update jupyter and ipywidgets. See https://ipywidgets.readthedocs.io/en/stable/user_install.html\n",
      "  from .autonotebook import tqdm as notebook_tqdm\n"
     ]
    }
   ],
   "source": [
    "import os\n",
    "import sys\n",
    "from pathlib import Path\n",
    "\n",
    "os.chdir(Path(os.getcwd()).parents[2])\n",
    "sys.path.append(os.getcwd())\n",
    "\n",
    "import torch\n",
    "import torch.nn as nn\n",
    "import numpy as np\n",
    "from tqdm import tqdm\n",
    "from torch.utils.data import DataLoader\n",
    "from data.perovskite_dataset import PerovskiteDataset1d\n",
    "\n",
    "from models.resnet import ResNet152, ResNet, BasicBlock, Bottleneck\n",
    "from models.slowfast import SlowFast\n",
    "from base_model import seed_worker\n",
    "from os.path import join\n",
    "from xai.utils.eval_methods import VisionSensitivityN, VisionInsertionDeletion"
   ]
  },
  {
   "cell_type": "code",
   "execution_count": 2,
   "metadata": {},
   "outputs": [],
   "source": [
    "## Change npz data for different dimensions here ##\n",
    "dim = \"2D_image\" # 1D, 2D_time, 2D_image, 3D\n",
    "\n",
    "data = np.load(\"./xai/results/eval_\" + dim + \"_results.npz\")\n",
    "sensN = data['arr_0']\n",
    "ins_abc = data['arr_1']\n",
    "del_abc = data['arr_2']\n",
    "infid = data['arr_3']\n",
    "sens = data['arr_4']\n",
    "\n",
    "log_n_max = 2.7\n",
    "log_n_ticks = 0.4\n",
    "n_list = np.logspace(0, log_n_max, int(log_n_max / log_n_ticks), base=10.0, dtype=int)\n",
    "\n",
    "# Changes per Dimension\n",
    "if dim == \"1D\":\n",
    "    ins_abc = ins_abc.clip(None,1)\n",
    "    infid = infid.clip(None,0.008)\n",
    "    sens = sens.clip(None,8)\n",
    "elif dim == \"2D_time\":\n",
    "    pass\n",
    "elif dim == \"2D_image\":\n",
    "    pass\n",
    "elif dim == \"3D\":\n",
    "    pass"
   ]
  },
  {
   "cell_type": "code",
   "execution_count": 3,
   "metadata": {},
   "outputs": [
    {
     "data": {
      "application/vnd.plotly.v1+json": {
       "config": {
        "plotlyServerURL": "https://plot.ly"
       },
       "data": [
        {
         "marker": {
          "color": "#042940"
         },
         "mode": "lines+markers",
         "name": "EG",
         "showlegend": false,
         "type": "scatter",
         "x": [
          1,
          3,
          12,
          41,
          144,
          501
         ],
         "xaxis": "x",
         "y": [
          0.34936159596897753,
          0.34417444200978536,
          0.3259376294872379,
          0.2939103888261111,
          0.34008115856646626,
          0.339478676603678
         ],
         "yaxis": "y"
        },
        {
         "line": {
          "color": "rgba(0,0,0,0)"
         },
         "mode": "lines",
         "showlegend": false,
         "type": "scatter",
         "x": [
          1,
          3,
          12,
          41,
          144,
          501
         ],
         "y": [
          0.46231869411102555,
          0.42661905161250424,
          0.39558019597346417,
          0.4557916683414792,
          0.38852513248844645,
          0.5611334725303512
         ]
        },
        {
         "fill": "tonexty",
         "fillcolor": "rgba(4,41,64,0.2)",
         "line": {
          "color": "rgba(0,0,0,0)"
         },
         "mode": "lines",
         "name": "95% confidence interval",
         "showlegend": false,
         "type": "scatter",
         "x": [
          1,
          3,
          12,
          41,
          144,
          501
         ],
         "y": [
          0.23640449782692952,
          0.2617298324070665,
          0.2562950630010117,
          0.132029109310743,
          0.29163718464448607,
          0.1178238806770048
         ]
        },
        {
         "marker": {
          "color": "#005C53"
         },
         "mode": "lines+markers",
         "name": "IG",
         "showlegend": false,
         "type": "scatter",
         "x": [
          1,
          3,
          12,
          41,
          144,
          501
         ],
         "xaxis": "x",
         "y": [
          0.43331766628554935,
          0.3298480817356092,
          0.4732728654628192,
          0.587258694528858,
          0.5384997931522455,
          0.5748198946085052
         ],
         "yaxis": "y"
        },
        {
         "line": {
          "color": "rgba(0,0,0,0)"
         },
         "mode": "lines",
         "showlegend": false,
         "type": "scatter",
         "x": [
          1,
          3,
          12,
          41,
          144,
          501
         ],
         "y": [
          0.46118856716455087,
          0.4068676056043835,
          0.5135542721336175,
          0.6169248914723768,
          0.6177765645305329,
          0.6195647759231089
         ]
        },
        {
         "fill": "tonexty",
         "fillcolor": "rgba(0,92,83,0.2)",
         "line": {
          "color": "rgba(0,0,0,0)"
         },
         "mode": "lines",
         "name": "95% confidence interval",
         "showlegend": false,
         "type": "scatter",
         "x": [
          1,
          3,
          12,
          41,
          144,
          501
         ],
         "y": [
          0.40544676540654784,
          0.2528285578668349,
          0.43299145879202094,
          0.5575924975853392,
          0.4592230217739581,
          0.5300750132939016
         ]
        },
        {
         "marker": {
          "color": "#9FC131"
         },
         "mode": "lines+markers",
         "name": "GBC",
         "showlegend": false,
         "type": "scatter",
         "x": [
          1,
          3,
          12,
          41,
          144,
          501
         ],
         "xaxis": "x",
         "y": [
          0.27869719360842443,
          0.258846319658113,
          0.26586714576216064,
          0.3620077998588944,
          0.24149562061225271,
          0.19427017842155941
         ],
         "yaxis": "y"
        },
        {
         "line": {
          "color": "rgba(0,0,0,0)"
         },
         "mode": "lines",
         "showlegend": false,
         "type": "scatter",
         "x": [
          1,
          3,
          12,
          41,
          144,
          501
         ],
         "y": [
          0.34638296459351087,
          0.30006693307161075,
          0.2668159330516482,
          0.3838428228197084,
          0.2955749543382372,
          0.29660035567711773
         ]
        },
        {
         "fill": "tonexty",
         "fillcolor": "rgba(159,193,49,0.2)",
         "line": {
          "color": "rgba(0,0,0,0)"
         },
         "mode": "lines",
         "name": "95% confidence interval",
         "showlegend": false,
         "type": "scatter",
         "x": [
          1,
          3,
          12,
          41,
          144,
          501
         ],
         "y": [
          0.211011422623338,
          0.21762570624461525,
          0.2649183584726731,
          0.34017277689808045,
          0.1874162868862682,
          0.09194000116600107
         ]
        },
        {
         "marker": {
          "color": "#DBF227"
         },
         "mode": "lines+markers",
         "name": "GGC",
         "showlegend": false,
         "type": "scatter",
         "x": [
          1,
          3,
          12,
          41,
          144,
          501
         ],
         "xaxis": "x",
         "y": [
          0.21567385652728718,
          0.2172151161447276,
          0.1600950769868419,
          0.2392922710679426,
          0.2570767426247544,
          0.02168408422673137
         ],
         "yaxis": "y"
        },
        {
         "line": {
          "color": "rgba(0,0,0,0)"
         },
         "mode": "lines",
         "showlegend": false,
         "type": "scatter",
         "x": [
          1,
          3,
          12,
          41,
          144,
          501
         ],
         "y": [
          0.47415999056120794,
          0.2860396026131367,
          0.3325589524056639,
          0.323893716508721,
          0.36921550451279156,
          0.07625746691526772
         ]
        },
        {
         "fill": "tonexty",
         "fillcolor": "rgba(219,242,39,0.2)",
         "line": {
          "color": "rgba(0,0,0,0)"
         },
         "mode": "lines",
         "name": "95% confidence interval",
         "showlegend": false,
         "type": "scatter",
         "x": [
          1,
          3,
          12,
          41,
          144,
          501
         ],
         "y": [
          -0.04281227750663355,
          0.1483906296763185,
          -0.012368798431980133,
          0.1546908256271642,
          0.1449379807367172,
          -0.03288929846180499
         ]
        },
        {
         "marker": {
          "color": "#042940"
         },
         "name": "EG",
         "showlegend": false,
         "type": "box",
         "xaxis": "x2",
         "y": [
          0.004819735562630378,
          0.0001983525628211913
         ],
         "yaxis": "y2"
        },
        {
         "marker": {
          "color": "#005C53"
         },
         "name": "IG",
         "showlegend": false,
         "type": "box",
         "xaxis": "x2",
         "y": [
          0.0004569075937789213,
          0.0006567071317213902
         ],
         "yaxis": "y2"
        },
        {
         "marker": {
          "color": "#9FC131"
         },
         "name": "GBC",
         "showlegend": false,
         "type": "box",
         "xaxis": "x2",
         "y": [
          0.024044495145427502,
          0.00011809206565971397
         ],
         "yaxis": "y2"
        },
        {
         "marker": {
          "color": "#DBF227"
         },
         "name": "GGC",
         "showlegend": false,
         "type": "box",
         "xaxis": "x2",
         "y": [
          0.016374950426619073,
          0.013503648079593311
         ],
         "yaxis": "y2"
        },
        {
         "marker": {
          "color": "#042940"
         },
         "name": "EG",
         "showlegend": false,
         "type": "box",
         "xaxis": "x3",
         "y": [
          0.015177235910678932,
          0.02469822380262876
         ],
         "yaxis": "y3"
        },
        {
         "marker": {
          "color": "#005C53"
         },
         "name": "IG",
         "showlegend": false,
         "type": "box",
         "xaxis": "x3",
         "y": [
          0.1857373983878131,
          0.296239562252035
         ],
         "yaxis": "y3"
        },
        {
         "marker": {
          "color": "#9FC131"
         },
         "name": "GBC",
         "showlegend": false,
         "type": "box",
         "xaxis": "x3",
         "y": [
          0.21102686249050084,
          0.11299689282610928
         ],
         "yaxis": "y3"
        },
        {
         "marker": {
          "color": "#DBF227"
         },
         "name": "GGC",
         "showlegend": false,
         "type": "box",
         "xaxis": "x3",
         "y": [
          0.15553021784389348,
          0.04716893892218932
         ],
         "yaxis": "y3"
        },
        {
         "marker": {
          "color": "#042940"
         },
         "name": "EG",
         "type": "box",
         "xaxis": "x4",
         "y": [
          1.0403374433517456,
          1.014730453491211
         ],
         "yaxis": "y4"
        },
        {
         "marker": {
          "color": "#005C53"
         },
         "name": "IG",
         "type": "box",
         "xaxis": "x4",
         "y": [
          0.05077124662444683,
          0.05368729356915559
         ],
         "yaxis": "y4"
        },
        {
         "marker": {
          "color": "#9FC131"
         },
         "name": "GBC",
         "type": "box",
         "xaxis": "x4",
         "y": [
          0.25236058235168457,
          0.2559022903442383
         ],
         "yaxis": "y4"
        },
        {
         "marker": {
          "color": "#DBF227"
         },
         "name": "GGC",
         "type": "box",
         "xaxis": "x4",
         "y": [
          0.4003032445907593,
          0.41411760449409485
         ],
         "yaxis": "y4"
        },
        {
         "marker": {
          "color": "#042940"
         },
         "name": "EG",
         "showlegend": false,
         "type": "box",
         "xaxis": "x5",
         "y": [
          0.000012356457773421425,
          0.000007208921488199849
         ],
         "yaxis": "y5"
        },
        {
         "marker": {
          "color": "#005C53"
         },
         "name": "IG",
         "showlegend": false,
         "type": "box",
         "xaxis": "x5",
         "y": [
          0.00003606539119074999,
          0.00011098772409651086
         ],
         "yaxis": "y5"
        },
        {
         "marker": {
          "color": "#9FC131"
         },
         "name": "GBC",
         "showlegend": false,
         "type": "box",
         "xaxis": "x5",
         "y": [
          6.108460866016685e-7,
          7.392422958218958e-7
         ],
         "yaxis": "y5"
        },
        {
         "marker": {
          "color": "#DBF227"
         },
         "name": "GGC",
         "showlegend": false,
         "type": "box",
         "xaxis": "x5",
         "y": [
          0.00005237973527982831,
          0.000016609576050541364
         ],
         "yaxis": "y5"
        }
       ],
       "layout": {
        "annotations": [
         {
          "font": {
           "size": 16
          },
          "showarrow": false,
          "text": "<b>Importance</b><br><span style=\"font-size: 14px;\">Sensitivity-N ↗</span>",
          "x": 0.08399999999999999,
          "xanchor": "center",
          "xref": "paper",
          "y": 1,
          "yanchor": "bottom",
          "yref": "paper"
         },
         {
          "font": {
           "size": 16
          },
          "showarrow": false,
          "text": "<b></b><br><span style=\"font-size: 14px;\">Insertion ↗</span>",
          "x": 0.292,
          "xanchor": "center",
          "xref": "paper",
          "y": 1,
          "yanchor": "bottom",
          "yref": "paper"
         },
         {
          "font": {
           "size": 16
          },
          "showarrow": false,
          "text": "<b></b><br><span style=\"font-size: 14px;\">Deletion ↗</span>",
          "x": 0.5,
          "xanchor": "center",
          "xref": "paper",
          "y": 1,
          "yanchor": "bottom",
          "yref": "paper"
         },
         {
          "font": {
           "size": 16
          },
          "showarrow": false,
          "text": "<b>Robustness</b><br><span style=\"font-size: 14px;\">Sensitivity ↘</span>",
          "x": 0.708,
          "xanchor": "center",
          "xref": "paper",
          "y": 1,
          "yanchor": "bottom",
          "yref": "paper"
         },
         {
          "font": {
           "size": 16
          },
          "showarrow": false,
          "text": "<b></b><br><span style=\"font-size: 14px;\">Infidelity ↘</span>",
          "x": 0.9159999999999999,
          "xanchor": "center",
          "xref": "paper",
          "y": 1,
          "yanchor": "bottom",
          "yref": "paper"
         }
        ],
        "height": 400,
        "legend": {
         "title": {},
         "traceorder": "normal"
        },
        "template": {
         "data": {
          "bar": [
           {
            "error_x": {
             "color": "#2a3f5f"
            },
            "error_y": {
             "color": "#2a3f5f"
            },
            "marker": {
             "line": {
              "color": "white",
              "width": 0.5
             },
             "pattern": {
              "fillmode": "overlay",
              "size": 10,
              "solidity": 0.2
             }
            },
            "type": "bar"
           }
          ],
          "barpolar": [
           {
            "marker": {
             "line": {
              "color": "white",
              "width": 0.5
             },
             "pattern": {
              "fillmode": "overlay",
              "size": 10,
              "solidity": 0.2
             }
            },
            "type": "barpolar"
           }
          ],
          "carpet": [
           {
            "aaxis": {
             "endlinecolor": "#2a3f5f",
             "gridcolor": "#C8D4E3",
             "linecolor": "#C8D4E3",
             "minorgridcolor": "#C8D4E3",
             "startlinecolor": "#2a3f5f"
            },
            "baxis": {
             "endlinecolor": "#2a3f5f",
             "gridcolor": "#C8D4E3",
             "linecolor": "#C8D4E3",
             "minorgridcolor": "#C8D4E3",
             "startlinecolor": "#2a3f5f"
            },
            "type": "carpet"
           }
          ],
          "choropleth": [
           {
            "colorbar": {
             "outlinewidth": 0,
             "ticks": ""
            },
            "type": "choropleth"
           }
          ],
          "contour": [
           {
            "colorbar": {
             "outlinewidth": 0,
             "ticks": ""
            },
            "colorscale": [
             [
              0,
              "#0d0887"
             ],
             [
              0.1111111111111111,
              "#46039f"
             ],
             [
              0.2222222222222222,
              "#7201a8"
             ],
             [
              0.3333333333333333,
              "#9c179e"
             ],
             [
              0.4444444444444444,
              "#bd3786"
             ],
             [
              0.5555555555555556,
              "#d8576b"
             ],
             [
              0.6666666666666666,
              "#ed7953"
             ],
             [
              0.7777777777777778,
              "#fb9f3a"
             ],
             [
              0.8888888888888888,
              "#fdca26"
             ],
             [
              1,
              "#f0f921"
             ]
            ],
            "type": "contour"
           }
          ],
          "contourcarpet": [
           {
            "colorbar": {
             "outlinewidth": 0,
             "ticks": ""
            },
            "type": "contourcarpet"
           }
          ],
          "heatmap": [
           {
            "colorbar": {
             "outlinewidth": 0,
             "ticks": ""
            },
            "colorscale": [
             [
              0,
              "#0d0887"
             ],
             [
              0.1111111111111111,
              "#46039f"
             ],
             [
              0.2222222222222222,
              "#7201a8"
             ],
             [
              0.3333333333333333,
              "#9c179e"
             ],
             [
              0.4444444444444444,
              "#bd3786"
             ],
             [
              0.5555555555555556,
              "#d8576b"
             ],
             [
              0.6666666666666666,
              "#ed7953"
             ],
             [
              0.7777777777777778,
              "#fb9f3a"
             ],
             [
              0.8888888888888888,
              "#fdca26"
             ],
             [
              1,
              "#f0f921"
             ]
            ],
            "type": "heatmap"
           }
          ],
          "heatmapgl": [
           {
            "colorbar": {
             "outlinewidth": 0,
             "ticks": ""
            },
            "colorscale": [
             [
              0,
              "#0d0887"
             ],
             [
              0.1111111111111111,
              "#46039f"
             ],
             [
              0.2222222222222222,
              "#7201a8"
             ],
             [
              0.3333333333333333,
              "#9c179e"
             ],
             [
              0.4444444444444444,
              "#bd3786"
             ],
             [
              0.5555555555555556,
              "#d8576b"
             ],
             [
              0.6666666666666666,
              "#ed7953"
             ],
             [
              0.7777777777777778,
              "#fb9f3a"
             ],
             [
              0.8888888888888888,
              "#fdca26"
             ],
             [
              1,
              "#f0f921"
             ]
            ],
            "type": "heatmapgl"
           }
          ],
          "histogram": [
           {
            "marker": {
             "pattern": {
              "fillmode": "overlay",
              "size": 10,
              "solidity": 0.2
             }
            },
            "type": "histogram"
           }
          ],
          "histogram2d": [
           {
            "colorbar": {
             "outlinewidth": 0,
             "ticks": ""
            },
            "colorscale": [
             [
              0,
              "#0d0887"
             ],
             [
              0.1111111111111111,
              "#46039f"
             ],
             [
              0.2222222222222222,
              "#7201a8"
             ],
             [
              0.3333333333333333,
              "#9c179e"
             ],
             [
              0.4444444444444444,
              "#bd3786"
             ],
             [
              0.5555555555555556,
              "#d8576b"
             ],
             [
              0.6666666666666666,
              "#ed7953"
             ],
             [
              0.7777777777777778,
              "#fb9f3a"
             ],
             [
              0.8888888888888888,
              "#fdca26"
             ],
             [
              1,
              "#f0f921"
             ]
            ],
            "type": "histogram2d"
           }
          ],
          "histogram2dcontour": [
           {
            "colorbar": {
             "outlinewidth": 0,
             "ticks": ""
            },
            "colorscale": [
             [
              0,
              "#0d0887"
             ],
             [
              0.1111111111111111,
              "#46039f"
             ],
             [
              0.2222222222222222,
              "#7201a8"
             ],
             [
              0.3333333333333333,
              "#9c179e"
             ],
             [
              0.4444444444444444,
              "#bd3786"
             ],
             [
              0.5555555555555556,
              "#d8576b"
             ],
             [
              0.6666666666666666,
              "#ed7953"
             ],
             [
              0.7777777777777778,
              "#fb9f3a"
             ],
             [
              0.8888888888888888,
              "#fdca26"
             ],
             [
              1,
              "#f0f921"
             ]
            ],
            "type": "histogram2dcontour"
           }
          ],
          "mesh3d": [
           {
            "colorbar": {
             "outlinewidth": 0,
             "ticks": ""
            },
            "type": "mesh3d"
           }
          ],
          "parcoords": [
           {
            "line": {
             "colorbar": {
              "outlinewidth": 0,
              "ticks": ""
             }
            },
            "type": "parcoords"
           }
          ],
          "pie": [
           {
            "automargin": true,
            "type": "pie"
           }
          ],
          "scatter": [
           {
            "fillpattern": {
             "fillmode": "overlay",
             "size": 10,
             "solidity": 0.2
            },
            "type": "scatter"
           }
          ],
          "scatter3d": [
           {
            "line": {
             "colorbar": {
              "outlinewidth": 0,
              "ticks": ""
             }
            },
            "marker": {
             "colorbar": {
              "outlinewidth": 0,
              "ticks": ""
             }
            },
            "type": "scatter3d"
           }
          ],
          "scattercarpet": [
           {
            "marker": {
             "colorbar": {
              "outlinewidth": 0,
              "ticks": ""
             }
            },
            "type": "scattercarpet"
           }
          ],
          "scattergeo": [
           {
            "marker": {
             "colorbar": {
              "outlinewidth": 0,
              "ticks": ""
             }
            },
            "type": "scattergeo"
           }
          ],
          "scattergl": [
           {
            "marker": {
             "colorbar": {
              "outlinewidth": 0,
              "ticks": ""
             }
            },
            "type": "scattergl"
           }
          ],
          "scattermapbox": [
           {
            "marker": {
             "colorbar": {
              "outlinewidth": 0,
              "ticks": ""
             }
            },
            "type": "scattermapbox"
           }
          ],
          "scatterpolar": [
           {
            "marker": {
             "colorbar": {
              "outlinewidth": 0,
              "ticks": ""
             }
            },
            "type": "scatterpolar"
           }
          ],
          "scatterpolargl": [
           {
            "marker": {
             "colorbar": {
              "outlinewidth": 0,
              "ticks": ""
             }
            },
            "type": "scatterpolargl"
           }
          ],
          "scatterternary": [
           {
            "marker": {
             "colorbar": {
              "outlinewidth": 0,
              "ticks": ""
             }
            },
            "type": "scatterternary"
           }
          ],
          "surface": [
           {
            "colorbar": {
             "outlinewidth": 0,
             "ticks": ""
            },
            "colorscale": [
             [
              0,
              "#0d0887"
             ],
             [
              0.1111111111111111,
              "#46039f"
             ],
             [
              0.2222222222222222,
              "#7201a8"
             ],
             [
              0.3333333333333333,
              "#9c179e"
             ],
             [
              0.4444444444444444,
              "#bd3786"
             ],
             [
              0.5555555555555556,
              "#d8576b"
             ],
             [
              0.6666666666666666,
              "#ed7953"
             ],
             [
              0.7777777777777778,
              "#fb9f3a"
             ],
             [
              0.8888888888888888,
              "#fdca26"
             ],
             [
              1,
              "#f0f921"
             ]
            ],
            "type": "surface"
           }
          ],
          "table": [
           {
            "cells": {
             "fill": {
              "color": "#EBF0F8"
             },
             "line": {
              "color": "white"
             }
            },
            "header": {
             "fill": {
              "color": "#C8D4E3"
             },
             "line": {
              "color": "white"
             }
            },
            "type": "table"
           }
          ]
         },
         "layout": {
          "annotationdefaults": {
           "arrowcolor": "#2a3f5f",
           "arrowhead": 0,
           "arrowwidth": 1
          },
          "autotypenumbers": "strict",
          "coloraxis": {
           "colorbar": {
            "outlinewidth": 0,
            "ticks": ""
           }
          },
          "colorscale": {
           "diverging": [
            [
             0,
             "#8e0152"
            ],
            [
             0.1,
             "#c51b7d"
            ],
            [
             0.2,
             "#de77ae"
            ],
            [
             0.3,
             "#f1b6da"
            ],
            [
             0.4,
             "#fde0ef"
            ],
            [
             0.5,
             "#f7f7f7"
            ],
            [
             0.6,
             "#e6f5d0"
            ],
            [
             0.7,
             "#b8e186"
            ],
            [
             0.8,
             "#7fbc41"
            ],
            [
             0.9,
             "#4d9221"
            ],
            [
             1,
             "#276419"
            ]
           ],
           "sequential": [
            [
             0,
             "#0d0887"
            ],
            [
             0.1111111111111111,
             "#46039f"
            ],
            [
             0.2222222222222222,
             "#7201a8"
            ],
            [
             0.3333333333333333,
             "#9c179e"
            ],
            [
             0.4444444444444444,
             "#bd3786"
            ],
            [
             0.5555555555555556,
             "#d8576b"
            ],
            [
             0.6666666666666666,
             "#ed7953"
            ],
            [
             0.7777777777777778,
             "#fb9f3a"
            ],
            [
             0.8888888888888888,
             "#fdca26"
            ],
            [
             1,
             "#f0f921"
            ]
           ],
           "sequentialminus": [
            [
             0,
             "#0d0887"
            ],
            [
             0.1111111111111111,
             "#46039f"
            ],
            [
             0.2222222222222222,
             "#7201a8"
            ],
            [
             0.3333333333333333,
             "#9c179e"
            ],
            [
             0.4444444444444444,
             "#bd3786"
            ],
            [
             0.5555555555555556,
             "#d8576b"
            ],
            [
             0.6666666666666666,
             "#ed7953"
            ],
            [
             0.7777777777777778,
             "#fb9f3a"
            ],
            [
             0.8888888888888888,
             "#fdca26"
            ],
            [
             1,
             "#f0f921"
            ]
           ]
          },
          "colorway": [
           "#636efa",
           "#EF553B",
           "#00cc96",
           "#ab63fa",
           "#FFA15A",
           "#19d3f3",
           "#FF6692",
           "#B6E880",
           "#FF97FF",
           "#FECB52"
          ],
          "font": {
           "color": "#2a3f5f"
          },
          "geo": {
           "bgcolor": "white",
           "lakecolor": "white",
           "landcolor": "white",
           "showlakes": true,
           "showland": true,
           "subunitcolor": "#C8D4E3"
          },
          "hoverlabel": {
           "align": "left"
          },
          "hovermode": "closest",
          "mapbox": {
           "style": "light"
          },
          "paper_bgcolor": "white",
          "plot_bgcolor": "white",
          "polar": {
           "angularaxis": {
            "gridcolor": "#EBF0F8",
            "linecolor": "#EBF0F8",
            "ticks": ""
           },
           "bgcolor": "white",
           "radialaxis": {
            "gridcolor": "#EBF0F8",
            "linecolor": "#EBF0F8",
            "ticks": ""
           }
          },
          "scene": {
           "xaxis": {
            "backgroundcolor": "white",
            "gridcolor": "#DFE8F3",
            "gridwidth": 2,
            "linecolor": "#EBF0F8",
            "showbackground": true,
            "ticks": "",
            "zerolinecolor": "#EBF0F8"
           },
           "yaxis": {
            "backgroundcolor": "white",
            "gridcolor": "#DFE8F3",
            "gridwidth": 2,
            "linecolor": "#EBF0F8",
            "showbackground": true,
            "ticks": "",
            "zerolinecolor": "#EBF0F8"
           },
           "zaxis": {
            "backgroundcolor": "white",
            "gridcolor": "#DFE8F3",
            "gridwidth": 2,
            "linecolor": "#EBF0F8",
            "showbackground": true,
            "ticks": "",
            "zerolinecolor": "#EBF0F8"
           }
          },
          "shapedefaults": {
           "line": {
            "color": "#2a3f5f"
           }
          },
          "ternary": {
           "aaxis": {
            "gridcolor": "#DFE8F3",
            "linecolor": "#A2B1C6",
            "ticks": ""
           },
           "baxis": {
            "gridcolor": "#DFE8F3",
            "linecolor": "#A2B1C6",
            "ticks": ""
           },
           "bgcolor": "white",
           "caxis": {
            "gridcolor": "#DFE8F3",
            "linecolor": "#A2B1C6",
            "ticks": ""
           }
          },
          "title": {
           "x": 0.05
          },
          "xaxis": {
           "automargin": true,
           "gridcolor": "#EBF0F8",
           "linecolor": "#EBF0F8",
           "ticks": "",
           "title": {
            "standoff": 15
           },
           "zerolinecolor": "#EBF0F8",
           "zerolinewidth": 2
          },
          "yaxis": {
           "automargin": true,
           "gridcolor": "#EBF0F8",
           "linecolor": "#EBF0F8",
           "ticks": "",
           "title": {
            "standoff": 15
           },
           "zerolinecolor": "#EBF0F8",
           "zerolinewidth": 2
          }
         }
        },
        "title": {
         "text": "<b>Attribution Evaluation</b><br><span style=\"font-size: 14px;\">Perovskite 2D_image Model (n = 2)</span>",
         "x": 0.035,
         "y": 0.96
        },
        "width": 1600,
        "xaxis": {
         "anchor": "y",
         "domain": [
          0,
          0.16799999999999998
         ],
         "title": {
          "text": "N"
         }
        },
        "xaxis2": {
         "anchor": "y2",
         "domain": [
          0.208,
          0.376
         ],
         "title": {
          "text": "Methods"
         }
        },
        "xaxis3": {
         "anchor": "y3",
         "domain": [
          0.416,
          0.584
         ]
        },
        "xaxis4": {
         "anchor": "y4",
         "domain": [
          0.624,
          0.792
         ]
        },
        "xaxis5": {
         "anchor": "y5",
         "domain": [
          0.832,
          1
         ]
        },
        "yaxis": {
         "anchor": "x",
         "domain": [
          0,
          1
         ],
         "title": {
          "text": "Pearson Correlation"
         }
        },
        "yaxis2": {
         "anchor": "x2",
         "domain": [
          0,
          1
         ],
         "rangemode": "tozero",
         "title": {
          "text": "Area Between Curves"
         }
        },
        "yaxis3": {
         "anchor": "x3",
         "domain": [
          0,
          1
         ],
         "rangemode": "tozero"
        },
        "yaxis4": {
         "anchor": "x4",
         "domain": [
          0,
          1
         ],
         "rangemode": "tozero",
         "title": {
          "text": "Score"
         }
        },
        "yaxis5": {
         "anchor": "x5",
         "domain": [
          0,
          1
         ],
         "rangemode": "tozero"
        }
       }
      }
     },
     "metadata": {},
     "output_type": "display_data"
    }
   ],
   "source": [
    "## Plot ##\n",
    "import plotly.graph_objects as go\n",
    "from plotly.subplots import make_subplots\n",
    "\n",
    "\n",
    "def format_title(title, subtitle=None, subtitle_font_size=14):\n",
    "    title = f\"<b>{title}</b>\"\n",
    "    if not subtitle:\n",
    "        return title\n",
    "    subtitle = f'<span style=\"font-size: {subtitle_font_size}px;\">{subtitle}</span>'\n",
    "    return f\"{title}<br>{subtitle}\"\n",
    "\n",
    "\n",
    "fig = make_subplots(\n",
    "    rows=1,\n",
    "    cols=5,\n",
    "    subplot_titles=(\n",
    "        format_title(\"Importance\", \"Sensitivity-N \" + \"\\u2197\",),\n",
    "        format_title(\"\", \"Insertion \" + \"\\u2197\",),\n",
    "        format_title(\"\", \"Deletion \" + \"\\u2197\",),\n",
    "        format_title(\"Robustness\", \"Sensitivity \" + \"\\u2198\",),\n",
    "        format_title(\"\", \"Infidelity \" + \"\\u2198\",),\n",
    "    ),\n",
    ")\n",
    "\n",
    "\n",
    "fig.add_trace(\n",
    "    go.Scatter(\n",
    "        y=sensN[0].mean(0),\n",
    "        x=n_list,\n",
    "        name=\"EG\",\n",
    "        marker_color=\"#042940\",\n",
    "        showlegend=False,\n",
    "        mode=\"lines+markers\",\n",
    "    ),\n",
    "    row=1,\n",
    "    col=1,\n",
    ")\n",
    "\n",
    "fig.add_traces(\n",
    "    [\n",
    "        go.Scatter(\n",
    "            x=n_list,\n",
    "            y=sensN[0].mean(0)\n",
    "            + 1.960 * (np.std(sensN[0], axis=0) / sensN[0].shape[0]),\n",
    "            mode=\"lines\",\n",
    "            line_color=\"rgba(0,0,0,0)\",\n",
    "            showlegend=False,\n",
    "        ),\n",
    "        go.Scatter(\n",
    "            x=n_list,\n",
    "            y=sensN[0].mean(0)\n",
    "            - 1.960 * (np.std(sensN[0], axis=0) / sensN[0].shape[0]),\n",
    "            mode=\"lines\",\n",
    "            line_color=\"rgba(0,0,0,0)\",\n",
    "            name=\"95% confidence interval\",\n",
    "            showlegend=False,\n",
    "            fill=\"tonexty\",\n",
    "            fillcolor=\"rgba(4,41,64,0.2)\",\n",
    "        ),\n",
    "    ]\n",
    ")\n",
    "\n",
    "fig.add_trace(\n",
    "    go.Scatter(\n",
    "        y=sensN[1].mean(0),\n",
    "        x=n_list,\n",
    "        name=\"IG\",\n",
    "        marker_color=\"#005C53\",\n",
    "        showlegend=False,\n",
    "        mode=\"lines+markers\",\n",
    "    ),\n",
    "    row=1,\n",
    "    col=1,\n",
    ")\n",
    "\n",
    "fig.add_traces(\n",
    "    [\n",
    "        go.Scatter(\n",
    "            x=n_list,\n",
    "            y=sensN[1].mean(0)\n",
    "            + 1.960 * (np.std(sensN[1], axis=0) / sensN[1].shape[0]),\n",
    "            mode=\"lines\",\n",
    "            line_color=\"rgba(0,0,0,0)\",\n",
    "            showlegend=False,\n",
    "        ),\n",
    "        go.Scatter(\n",
    "            x=n_list,\n",
    "            y=sensN[1].mean(0)\n",
    "            - 1.960 * (np.std(sensN[1], axis=0) / sensN[1].shape[0]),\n",
    "            mode=\"lines\",\n",
    "            line_color=\"rgba(0,0,0,0)\",\n",
    "            name=\"95% confidence interval\",\n",
    "            showlegend=False,\n",
    "            fill=\"tonexty\",\n",
    "            fillcolor=\"rgba(0,92,83,0.2)\",\n",
    "        ),\n",
    "    ]\n",
    ")\n",
    "\n",
    "fig.add_trace(\n",
    "    go.Scatter(\n",
    "        y=sensN[2].mean(0),\n",
    "        x=n_list,\n",
    "        name=\"GBC\",\n",
    "        marker_color=\"#9FC131\",\n",
    "        showlegend=False,\n",
    "        mode=\"lines+markers\",\n",
    "    ),\n",
    "    row=1,\n",
    "    col=1,\n",
    ")\n",
    "\n",
    "fig.add_traces(\n",
    "    [\n",
    "        go.Scatter(\n",
    "            x=n_list,\n",
    "            y=sensN[2].mean(0)\n",
    "            + 1.960 * (np.std(sensN[2], axis=0) / sensN[2].shape[0]),\n",
    "            mode=\"lines\",\n",
    "            line_color=\"rgba(0,0,0,0)\",\n",
    "            showlegend=False,\n",
    "        ),\n",
    "        go.Scatter(\n",
    "            x=n_list,\n",
    "            y=sensN[2].mean(0)\n",
    "            - 1.960 * (np.std(sensN[2], axis=0) / sensN[2].shape[0]),\n",
    "            mode=\"lines\",\n",
    "            line_color=\"rgba(0,0,0,0)\",\n",
    "            name=\"95% confidence interval\",\n",
    "            showlegend=False,\n",
    "            fill=\"tonexty\",\n",
    "            fillcolor=\"rgba(159,193,49,0.2)\",\n",
    "        ),\n",
    "    ]\n",
    ")\n",
    "\n",
    "fig.add_trace(\n",
    "    go.Scatter(\n",
    "        y=sensN[3].mean(0),\n",
    "        x=n_list,\n",
    "        name=\"GGC\",\n",
    "        marker_color=\"#DBF227\",\n",
    "        showlegend=False,\n",
    "        mode=\"lines+markers\",\n",
    "    ),\n",
    "    row=1,\n",
    "    col=1,\n",
    ")\n",
    "\n",
    "fig.add_traces(\n",
    "    [\n",
    "        go.Scatter(\n",
    "            x=n_list,\n",
    "            y=sensN[3].mean(0)\n",
    "            + 1.960 * (np.std(sensN[3], axis=0) / sensN[3].shape[0]),\n",
    "            mode=\"lines\",\n",
    "            line_color=\"rgba(0,0,0,0)\",\n",
    "            showlegend=False,\n",
    "        ),\n",
    "        go.Scatter(\n",
    "            x=n_list,\n",
    "            y=sensN[3].mean(0)\n",
    "            - 1.960 * (np.std(sensN[3], axis=0) / sensN[3].shape[0]),\n",
    "            mode=\"lines\",\n",
    "            line_color=\"rgba(0,0,0,0)\",\n",
    "            name=\"95% confidence interval\",\n",
    "            showlegend=False,\n",
    "            fill=\"tonexty\",\n",
    "            fillcolor=\"rgba(219,242,39,0.2)\",\n",
    "        ),\n",
    "    ]\n",
    ")\n",
    "\n",
    "fig.add_trace(\n",
    "    go.Box(y=ins_abc[0], name=\"EG\", marker_color=\"#042940\", showlegend=False),\n",
    "    row=1,\n",
    "    col=2,\n",
    ")\n",
    "fig.add_trace(\n",
    "    go.Box(y=ins_abc[1], name=\"IG\", marker_color=\"#005C53\", showlegend=False),\n",
    "    row=1,\n",
    "    col=2,\n",
    ")\n",
    "fig.add_trace(\n",
    "    go.Box(y=ins_abc[2], name=\"GBC\", marker_color=\"#9FC131\", showlegend=False),\n",
    "    row=1,\n",
    "    col=2,\n",
    ")\n",
    "fig.add_trace(\n",
    "    go.Box(y=ins_abc[3], name=\"GGC\", marker_color=\"#DBF227\", showlegend=False),\n",
    "    row=1,\n",
    "    col=2,\n",
    ")\n",
    "\n",
    "fig.add_trace(\n",
    "    go.Box(y=del_abc[0], name=\"EG\", marker_color=\"#042940\", showlegend=False),\n",
    "    row=1,\n",
    "    col=3,\n",
    ")\n",
    "fig.add_trace(\n",
    "    go.Box(y=del_abc[1], name=\"IG\", marker_color=\"#005C53\", showlegend=False),\n",
    "    row=1,\n",
    "    col=3,\n",
    ")\n",
    "fig.add_trace(\n",
    "    go.Box(y=del_abc[2], name=\"GBC\", marker_color=\"#9FC131\", showlegend=False),\n",
    "    row=1,\n",
    "    col=3,\n",
    ")\n",
    "fig.add_trace(\n",
    "    go.Box(y=del_abc[3], name=\"GGC\", marker_color=\"#DBF227\", showlegend=False),\n",
    "    row=1,\n",
    "    col=3,\n",
    ")\n",
    "\n",
    "fig.add_trace(\n",
    "    go.Box(y=sens[0].squeeze(), name=\"EG\", marker_color=\"#042940\"), row=1, col=4,\n",
    ")\n",
    "fig.add_trace(\n",
    "    go.Box(y=sens[1].squeeze(), name=\"IG\", marker_color=\"#005C53\"), row=1, col=4,\n",
    ")\n",
    "fig.add_trace(\n",
    "    go.Box(y=sens[2].squeeze(), name=\"GBC\", marker_color=\"#9FC131\"), row=1, col=4,\n",
    ")\n",
    "fig.add_trace(\n",
    "    go.Box(y=sens[3].squeeze(), name=\"GGC\", marker_color=\"#DBF227\"), row=1, col=4,\n",
    ")\n",
    "\n",
    "\n",
    "fig.add_trace(\n",
    "    go.Box(\n",
    "        y=infid[0].squeeze(), name=\"EG\", marker_color=\"#042940\", showlegend=False\n",
    "    ),\n",
    "    row=1,\n",
    "    col=5,\n",
    ")\n",
    "fig.add_trace(\n",
    "    go.Box(\n",
    "        y=infid[1].squeeze(), name=\"IG\", marker_color=\"#005C53\", showlegend=False\n",
    "    ),\n",
    "    row=1,\n",
    "    col=5,\n",
    ")\n",
    "fig.add_trace(\n",
    "    go.Box(\n",
    "        y=infid[2].squeeze(), name=\"GBC\", marker_color=\"#9FC131\", showlegend=False\n",
    "    ),\n",
    "    row=1,\n",
    "    col=5,\n",
    ")\n",
    "fig.add_trace(\n",
    "    go.Box(\n",
    "        y=infid[3].squeeze(), name=\"GGC\", marker_color=\"#DBF227\", showlegend=False\n",
    "    ),\n",
    "    row=1,\n",
    "    col=5,\n",
    ")\n",
    "\n",
    "\n",
    "fig.update_xaxes(title=\"N\", row=1, col=1)\n",
    "fig.update_xaxes(title=\"Methods\", row=1, col=2)\n",
    "\n",
    "fig.update_yaxes(title=\"Pearson Correlation\", row=1, col=1)\n",
    "fig.update_yaxes(title=\"Area Between Curves\", rangemode=\"tozero\", row=1, col=2)\n",
    "fig.update_yaxes(rangemode=\"tozero\", row=1, col=3)\n",
    "fig.update_yaxes(title=\"Score\", rangemode=\"tozero\", row=1, col=4)\n",
    "fig.update_yaxes(rangemode=\"tozero\", row=1, col=5)\n",
    "\n",
    "fig.update_layout(\n",
    "    title=format_title(\n",
    "        \"Attribution Evaluation\",\n",
    "        \"Perovskite \"+ dim +\" Model (n = \" + str(sensN[3].shape[0]) + \")\",\n",
    "    ),\n",
    "    legend_title=None,\n",
    "    legend={\"traceorder\": \"normal\"},\n",
    "    title_y=0.96,\n",
    "    title_x=0.035,\n",
    "    template=\"plotly_white\",\n",
    "    height=400,\n",
    "    width=1600,\n",
    ")\n",
    "\n",
    "fig.write_image(\"xai/images/\" + dim + \"/\" + dim +\"_eval.png\", scale=2)\n",
    "\n",
    "fig.show()"
   ]
  }
 ],
 "metadata": {
  "kernelspec": {
   "display_name": "Python 3.9.12 ('perovskite')",
   "language": "python",
   "name": "python3"
  },
  "language_info": {
   "codemirror_mode": {
    "name": "ipython",
    "version": 3
   },
   "file_extension": ".py",
   "mimetype": "text/x-python",
   "name": "python",
   "nbconvert_exporter": "python",
   "pygments_lexer": "ipython3",
   "version": "3.9.12"
  },
  "orig_nbformat": 4,
  "vscode": {
   "interpreter": {
    "hash": "a9cd84acc5e6b29c782243490b26c04f4eba938e3194e8b2c75b711ae85fcc9d"
   }
  }
 },
 "nbformat": 4,
 "nbformat_minor": 2
}
