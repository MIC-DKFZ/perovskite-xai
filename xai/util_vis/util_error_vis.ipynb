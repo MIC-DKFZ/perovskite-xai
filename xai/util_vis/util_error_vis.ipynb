{
 "cells": [
  {
   "cell_type": "code",
   "execution_count": 1,
   "metadata": {},
   "outputs": [
    {
     "data": {
      "text/plain": [
       "'/home/l727n/Projects/Applied Projects/ml_perovskite'"
      ]
     },
     "execution_count": 1,
     "metadata": {},
     "output_type": "execute_result"
    }
   ],
   "source": [
    "import os\n",
    "from pathlib import Path\n",
    "\n",
    "os.chdir(Path(os.getcwd()).parents[1])\n",
    "os.getcwd()\n"
   ]
  },
  {
   "cell_type": "code",
   "execution_count": 2,
   "metadata": {},
   "outputs": [
    {
     "name": "stderr",
     "output_type": "stream",
     "text": [
      "/home/l727n/anaconda3/envs/perovskite/lib/python3.9/site-packages/tqdm/auto.py:21: TqdmWarning: IProgress not found. Please update jupyter and ipywidgets. See https://ipywidgets.readthedocs.io/en/stable/user_install.html\n",
      "  from .autonotebook import tqdm as notebook_tqdm\n"
     ]
    }
   ],
   "source": [
    "target = \"pce\" # mth, pce\n",
    "import torch\n",
    "import torch.nn as nn\n",
    "import numpy as np\n",
    "from torch.utils.data import DataLoader\n",
    "from data.perovskite_dataset import (\n",
    "    PerovskiteDataset1d,\n",
    "    PerovskiteDataset2d,\n",
    "    PerovskiteDataset3d,\n",
    "    PerovskiteDataset2d_time,\n",
    ")\n",
    "from models.resnet import ResNet152, ResNet, BasicBlock, Bottleneck\n",
    "from models.slowfast import SlowFast\n",
    "from data.augmentations.perov_1d import normalize\n",
    "from data.augmentations.perov_2d import normalize as normalize_2d\n",
    "from data.augmentations.perov_3d import normalize as normalize_3d\n",
    "from base_model import seed_worker\n",
    "from argparse import ArgumentParser\n",
    "from os.path import join\n",
    "\n",
    "data_dir = \"/home/l727n/Projects/Applied Projects/ml_perovskite/preprocessed\"\n"
   ]
  },
  {
   "cell_type": "code",
   "execution_count": 3,
   "metadata": {},
   "outputs": [
    {
     "name": "stderr",
     "output_type": "stream",
     "text": [
      "Lightning automatically upgraded your loaded checkpoint from v1.6.3 to v2.0.0. To apply the upgrade to your files permanently, run `python -m pytorch_lightning.utilities.upgrade_checkpoint --file ../../../E132-Projekte/Projects/Helmholtz_Imaging_ACVL/KIT-FZJ_2021_Perovskite/data_Jan_2022/checkpoints/1D-epoch=999-val_MAE=0.000-train_MAE=0.490.ckpt`\n"
     ]
    },
    {
     "name": "stdout",
     "output_type": "stream",
     "text": [
      "tensor([0.2697, 0.0191, 0.0057, 0.0216]) tensor([0.1589, 0.0106, 0.0030, 0.0145])\n",
      "Loaded\n"
     ]
    }
   ],
   "source": [
    "#### 1D Model (no border)\n",
    "if target == \"pce\":\n",
    "    checkpoint_dir = \"/home/l727n/E132-Projekte/Projects/Helmholtz_Imaging_ACVL/KIT-FZJ_2021_Perovskite/data_Jan_2022/checkpoints\"\n",
    "\n",
    "    path_to_checkpoint = join(\n",
    "        checkpoint_dir, \"1D-epoch=999-val_MAE=0.000-train_MAE=0.490.ckpt\"\n",
    "    )\n",
    "else:\n",
    "    checkpoint_dir = \"/home/l727n/E132-Projekte/Projects/Helmholtz_Imaging_ACVL/KIT-FZJ_2021_Perovskite/data_Jan_2022/mT_checkpoints/checkpoints\"\n",
    "\n",
    "    path_to_checkpoint = join(\n",
    "        checkpoint_dir, \"mT_1D_RN152_full-epoch=999-val_MAE=0.000-train_MAE=40.332.ckpt\"\n",
    "    )\n",
    "\n",
    "\n",
    "hypparams = {\n",
    "    \"dataset\": \"Perov_1d\",\n",
    "    \"dims\": 1,\n",
    "    \"bottleneck\": False,\n",
    "    \"name\": \"ResNet152\",\n",
    "    \"data_dir\": data_dir,\n",
    "    \"no_border\": False,\n",
    "    \"resnet_dropout\": 0.0,\n",
    "    \"stochastic_depth\": 0.0,\n",
    "    \"norm_target\": True if target == \"pce\" else False,\n",
    "    \"target\": \"PCE_mean\" if target == \"pce\" else \"meanThickness\"\n",
    "}\n",
    "\n",
    "model = ResNet.load_from_checkpoint(\n",
    "    path_to_checkpoint,\n",
    "    block=BasicBlock,\n",
    "    num_blocks=[4, 13, 55, 4],\n",
    "    num_classes=1,\n",
    "    hypparams=hypparams,\n",
    ")\n",
    "\n",
    "print(\"Loaded\")\n",
    "model.eval()\n",
    "\n",
    "test_set = PerovskiteDataset1d(\n",
    "    data_dir,\n",
    "    transform=normalize(model.train_mean, model.train_std),\n",
    "    scaler=model.scaler,\n",
    "    no_border=False,\n",
    "    return_unscaled=False if target == \"pce\" else True,\n",
    "    label=\"PCE_mean\" if target == \"pce\" else \"meanThickness\",\n",
    "    fold=None, \n",
    "    split='test',\n",
    "    val=False \n",
    ")\n",
    "\n",
    "\n"
   ]
  },
  {
   "cell_type": "code",
   "execution_count": 3,
   "metadata": {},
   "outputs": [
    {
     "name": "stderr",
     "output_type": "stream",
     "text": [
      "Lightning automatically upgraded your loaded checkpoint from v1.6.3 to v2.0.0. To apply the upgrade to your files permanently, run `python -m pytorch_lightning.utilities.upgrade_checkpoint --file ../../../E132-Projekte/Projects/Helmholtz_Imaging_ACVL/KIT-FZJ_2021_Perovskite/data_Jan_2022/checkpoints/2D-epoch=999-val_MAE=0.000-train_MAE=0.289.ckpt`\n"
     ]
    },
    {
     "name": "stdout",
     "output_type": "stream",
     "text": [
      "[0.23169845 0.00265788 0.00174048 0.00421168] [3.4151509e-02 3.0193795e-04 9.2120092e-05 9.2122407e-04]\n",
      "Loaded\n"
     ]
    }
   ],
   "source": [
    "if target == \"pce\":\n",
    "    checkpoint_dir = \"/home/l727n/E132-Projekte/Projects/Helmholtz_Imaging_ACVL/KIT-FZJ_2021_Perovskite/data_Jan_2022/checkpoints\"\n",
    "\n",
    "    path_to_checkpoint = join(\n",
    "        checkpoint_dir, \"2D-epoch=999-val_MAE=0.000-train_MAE=0.289.ckpt\"\n",
    "    )\n",
    "else:\n",
    "    checkpoint_dir = \"/home/l727n/E132-Projekte/Projects/Helmholtz_Imaging_ACVL/KIT-FZJ_2021_Perovskite/data_Jan_2022/mT_checkpoints/checkpoints\"\n",
    "\n",
    "    path_to_checkpoint = join(\n",
    "        checkpoint_dir, \"mT_2D_RN18_full-epoch=999-val_MAE=0.000-train_MAE=25.299.ckpt\"\n",
    "    )\n",
    "\n",
    "#### 2D Model\n",
    "\n",
    "hypparams = {\n",
    "    \"dataset\": \"Perov_2d\",\n",
    "    \"dims\": 2,\n",
    "    \"bottleneck\": False,\n",
    "    \"name\": \"ResNet18\",\n",
    "    \"data_dir\": data_dir,\n",
    "    \"no_border\": False,\n",
    "    \"resnet_dropout\": 0.0,\n",
    "    \"stochastic_depth\": 0.0,\n",
    "    \"norm_target\": True if target == \"pce\" else False,\n",
    "    \"target\": \"PCE_mean\" if target == \"pce\" else \"meanThickness\"\n",
    "}\n",
    "\n",
    "model = ResNet.load_from_checkpoint(\n",
    "    path_to_checkpoint,\n",
    "    block=BasicBlock,\n",
    "    num_blocks=[2, 2, 2, 2],\n",
    "    num_classes=1,\n",
    "    hypparams=hypparams,\n",
    ")\n",
    "\n",
    "print(\"Loaded\")\n",
    "model.eval()\n",
    "\n",
    "test_set = PerovskiteDataset2d(\n",
    "    data_dir,\n",
    "    transform=normalize_2d(model.train_mean, model.train_std),\n",
    "    scaler=model.scaler,\n",
    "    no_border=False,\n",
    "    return_unscaled= False if target == \"pce\" else True,\n",
    "    label=\"PCE_mean\" if target == \"pce\" else \"meanThickness\",\n",
    "    fold=None, \n",
    "    split='test',\n",
    "    val=False \n",
    ")"
   ]
  },
  {
   "cell_type": "code",
   "execution_count": 3,
   "metadata": {},
   "outputs": [
    {
     "name": "stderr",
     "output_type": "stream",
     "text": [
      "Lightning automatically upgraded your loaded checkpoint from v1.6.3 to v2.0.0. To apply the upgrade to your files permanently, run `python -m pytorch_lightning.utilities.upgrade_checkpoint --file ../../../E132-Projekte/Projects/Helmholtz_Imaging_ACVL/KIT-FZJ_2021_Perovskite/data_Jan_2022/checkpoints/2D_time-epoch=999-val_MAE=0.000-train_MAE=0.725.ckpt`\n"
     ]
    },
    {
     "name": "stdout",
     "output_type": "stream",
     "text": [
      "[0.26849303 0.01902202 0.00568256 0.02159704] [0.16095641 0.01068098 0.00295246 0.01455085]\n",
      "Loaded\n"
     ]
    }
   ],
   "source": [
    "if target == \"pce\":\n",
    "    checkpoint_dir = \"/home/l727n/E132-Projekte/Projects/Helmholtz_Imaging_ACVL/KIT-FZJ_2021_Perovskite/data_Jan_2022/checkpoints\"\n",
    "\n",
    "    path_to_checkpoint = join(\n",
    "        checkpoint_dir, \"2D_time-epoch=999-val_MAE=0.000-train_MAE=0.725.ckpt\"\n",
    "    )\n",
    "else:\n",
    "    checkpoint_dir = \"/home/l727n/E132-Projekte/Projects/Helmholtz_Imaging_ACVL/KIT-FZJ_2021_Perovskite/data_Jan_2022/mT_checkpoints/checkpoints\"\n",
    "\n",
    "    path_to_checkpoint = join(\n",
    "        checkpoint_dir, \"mT_2Dtime_RN18_full3-epoch=999-val_MAE=0.000-train_MAE=36.879.ckpt\" \n",
    "    )\n",
    "\n",
    "#### 2D Model\n",
    "\n",
    "hypparams = {\n",
    "    \"dataset\": \"Perov_time_2d\",\n",
    "    \"dims\": 2,\n",
    "    \"bottleneck\": False,\n",
    "    \"name\": \"ResNet18\",\n",
    "    \"data_dir\": data_dir,\n",
    "    \"no_border\": False,\n",
    "    \"resnet_dropout\": 0.0,\n",
    "    \"stochastic_depth\": 0.0,\n",
    "    \"norm_target\": True if target == \"pce\" else False,\n",
    "    \"target\": \"PCE_mean\" if target == \"pce\" else \"meanThickness\"\n",
    "}\n",
    "\n",
    "model = ResNet.load_from_checkpoint(\n",
    "    path_to_checkpoint,\n",
    "    block=BasicBlock,\n",
    "    num_blocks=[2, 2, 2, 2],\n",
    "    num_classes=1,\n",
    "    hypparams=hypparams,\n",
    ")\n",
    "\n",
    "print(\"Loaded\")\n",
    "model.eval()\n",
    "\n",
    "test_set = PerovskiteDataset2d_time(\n",
    "    data_dir,\n",
    "    transform=normalize_2d(model.train_mean, model.train_std),\n",
    "    scaler=model.scaler,\n",
    "    no_border=False,\n",
    "    return_unscaled= False if target == \"pce\" else True,\n",
    "    label=\"PCE_mean\" if target == \"pce\" else \"meanThickness\",\n",
    "    fold=None, \n",
    "    split='test',\n",
    "    val=False \n",
    ")"
   ]
  },
  {
   "cell_type": "code",
   "execution_count": 3,
   "metadata": {},
   "outputs": [
    {
     "name": "stderr",
     "output_type": "stream",
     "text": [
      "Lightning automatically upgraded your loaded checkpoint from v1.6.3 to v2.0.0. To apply the upgrade to your files permanently, run `python -m pytorch_lightning.utilities.upgrade_checkpoint --file ../../../E132-Projekte/Projects/Helmholtz_Imaging_ACVL/KIT-FZJ_2021_Perovskite/data_Jan_2022/checkpoints/3D-epoch=999-val_MAE=0.000-train_MAE=0.360.ckpt`\n"
     ]
    },
    {
     "name": "stdout",
     "output_type": "stream",
     "text": [
      "tensor([0.2687, 0.0188, 0.0056, 0.0215]) tensor([0.1645, 0.0109, 0.0030, 0.0147])\n",
      "Loaded\n"
     ]
    }
   ],
   "source": [
    "if target == \"pce\":\n",
    "    checkpoint_dir = \"/home/l727n/E132-Projekte/Projects/Helmholtz_Imaging_ACVL/KIT-FZJ_2021_Perovskite/data_Jan_2022/checkpoints\"\n",
    "\n",
    "    path_to_checkpoint = join(\n",
    "        checkpoint_dir, \"3D-epoch=999-val_MAE=0.000-train_MAE=0.360.ckpt\"\n",
    "    )\n",
    "else:\n",
    "    checkpoint_dir = \"/home/l727n/E132-Projekte/Projects/Helmholtz_Imaging_ACVL/KIT-FZJ_2021_Perovskite/data_Jan_2022/mT_checkpoints/checkpoints\"\n",
    "\n",
    "    path_to_checkpoint = join(\n",
    "        checkpoint_dir, \"mT_3D_SF_full-epoch=999-val_MAE=0.000-train_MAE=20.877.ckpt\" \n",
    "    )\n",
    "\n",
    "#### 3D Model\n",
    "\n",
    "hypparams = {\n",
    "    \"dataset\": \"Perov_3d\",\n",
    "    \"dims\": 3,\n",
    "    \"bottleneck\": False,\n",
    "    \"name\": \"SlowFast\",\n",
    "    \"data_dir\": data_dir,\n",
    "    \"no_border\": False,\n",
    "    \"resnet_dropout\": 0.0,\n",
    "    \"norm_target\": True if target == \"pce\" else False,\n",
    "    \"target\": \"PCE_mean\" if target == \"pce\" else \"meanThickness\"\n",
    "}\n",
    "\n",
    "model = SlowFast.load_from_checkpoint(\n",
    "    path_to_checkpoint, num_classes=1, hypparams=hypparams\n",
    ")\n",
    "\n",
    "print(\"Loaded\")\n",
    "model.eval()\n",
    "\n",
    "test_set = PerovskiteDataset3d(\n",
    "    data_dir,\n",
    "    transform=normalize_3d(model.train_mean, model.train_std),\n",
    "    scaler=model.scaler,\n",
    "    no_border=False,\n",
    "    return_unscaled= False if target == \"pce\" else True,\n",
    "    label=\"PCE_mean\" if target == \"pce\" else \"meanThickness\",\n",
    "    fold=None, \n",
    "    split='test',\n",
    "    val=False \n",
    ")"
   ]
  },
  {
   "cell_type": "code",
   "execution_count": 8,
   "metadata": {},
   "outputs": [],
   "source": [
    "batch_size = 32\n",
    "\n",
    "loader = DataLoader(\n",
    "    test_set,\n",
    "    batch_size=batch_size,\n",
    "    shuffle=True,\n",
    "    num_workers=8,\n",
    "    pin_memory=True,\n",
    "    worker_init_fn=seed_worker,\n",
    "    persistent_workers=True,\n",
    ")\n",
    "\n",
    "def pytorch_predict(model, test_loader, device):\n",
    "    '''\n",
    "    Make prediction from a pytorch model \n",
    "    '''\n",
    "    # set model to evaluate model\n",
    "    model.eval()\n",
    "    \n",
    "    y_true = torch.tensor([], dtype=torch.long, device=device)\n",
    "    all_outputs = torch.tensor([], device=device)\n",
    "    \n",
    "    # deactivate autograd engine and reduce memory usage and speed up computations\n",
    "    with torch.no_grad():\n",
    "        for data in test_loader:\n",
    "            inputs = [i.to(device) for i in data[:-1]]\n",
    "            labels = data[-1].to(device)\n",
    "            \n",
    "            outputs = model(*inputs)\n",
    "            y_true = torch.cat((y_true, labels), 0)\n",
    "            all_outputs = torch.cat((all_outputs, outputs), 0)\n",
    "    \n",
    "    y_true = y_true.cpu().numpy()  \n",
    "    y_pred = all_outputs.flatten().cpu().numpy()\n",
    "    \n",
    "    return y_true, y_pred\n",
    "\n",
    "y_true, y_pred = pytorch_predict(model,loader,\"cpu\")"
   ]
  },
  {
   "cell_type": "markdown",
   "metadata": {},
   "source": [
    "## Parity Plots"
   ]
  },
  {
   "cell_type": "code",
   "execution_count": null,
   "metadata": {},
   "outputs": [],
   "source": [
    "import plotly.express as px\n",
    "import plotly.graph_objects as go\n",
    "color = [\"#E1462C\", \"#0059A0\", \"#5F3893\", \"#FF8777\",\"#0A2C6E\", \"#CEDEEB\"]\n",
    "\n",
    "if target == \"pce\":\n",
    "    y_true = test_set.scaler.inverse_transform(y_true.reshape(1, -1))[0]\n",
    "    y_pred = test_set.scaler.inverse_transform(y_pred.reshape(1, -1))[0]\n",
    "\n",
    "fig = px.scatter(x=y_true, y=y_pred, trendline=\"lowess\", trendline_color_override=color[3], trendline_options=dict(frac=0.9)\n",
    ")\n",
    "fig.update_traces(marker=dict(color=color[1]), line=dict(width=3))\n",
    "\n",
    "fig.add_shape(\n",
    "    type=\"line\", line=dict(dash='dash', width=3),\n",
    "    x0=y_true.min(), y0=y_true.min(),\n",
    "    x1=y_true.max(), y1=y_true.max()\n",
    ")\n",
    "\n",
    "fig.update_yaxes(title_text=\"Predicted\", showticklabels = True, zeroline = False,linewidth=3, showline = True, showgrid=True,#range = [-4,2.1], \n",
    "                 tickfont= dict(size=12, family=\"Helvetica\", color=\"rgb(0,0,0)\")\n",
    ")\n",
    "fig.update_xaxes(title_text=\"Ground Truth\", showline = True, showgrid=True, linewidth=3,# range = [-4,4], \n",
    "tickfont= dict(size=12, family=\"Helvetica\", color=\"rgb(0,0,0)\"))\n",
    "\n",
    "fig.update_layout(\n",
    "    showlegend=False,\n",
    "    template=\"plotly_white\",\n",
    "    height=400,\n",
    "    width=400,\n",
    "    font=dict(\n",
    "        family=\"Helvetica\",\n",
    "        color=\"#000000\",\n",
    "        size = 14\n",
    "    ),\n",
    ")\n",
    "\n",
    "#fig.write_image(\"xai/images/\" +target+\"/1D/parity_plot.png\", scale=4)\n",
    "fig.show()"
   ]
  },
  {
   "cell_type": "markdown",
   "metadata": {},
   "source": [
    "## Residual Plots"
   ]
  },
  {
   "cell_type": "code",
   "execution_count": 9,
   "metadata": {},
   "outputs": [
    {
     "data": {
      "application/vnd.plotly.v1+json": {
       "config": {
        "plotlyServerURL": "https://plot.ly"
       },
       "data": [
        {
         "hovertemplate": "x=%{x}<br>y=%{y}<extra></extra>",
         "legendgroup": "",
         "line": {
          "width": 3
         },
         "marker": {
          "color": "#0059A0",
          "symbol": "circle"
         },
         "mode": "markers",
         "name": "",
         "orientation": "v",
         "showlegend": false,
         "type": "scatter",
         "x": [
          11.056327819824219,
          8.563297271728516,
          12.304449081420898,
          11.805560111999512,
          11.828304290771484,
          14.191625595092773,
          8.841403007507324,
          10.998075485229492,
          10.903995513916016,
          8.006190299987793,
          12.158241271972656,
          3.438392162322998,
          14.0941801071167,
          13.369710922241211,
          11.618797302246094,
          13.057679176330566,
          14.490111351013184,
          12.017197608947754,
          14.33555793762207,
          12.190824508666992,
          11.247900009155273,
          14.083037376403809,
          12.55949878692627,
          12.162617683410645,
          12.107165336608887,
          11.437458992004395,
          8.325153350830078,
          11.407004356384277,
          13.964719772338867,
          11.493927955627441,
          10.334820747375488,
          12.114543914794922,
          13.421574592590332,
          13.022693634033203,
          13.123102188110352,
          11.487157821655273,
          12.487831115722656,
          12.452778816223145,
          10.85932445526123,
          11.031036376953125,
          11.924544334411621,
          7.122570514678955,
          12.590757369995117,
          12.220945358276367,
          12.445588111877441,
          10.729606628417969,
          9.294414520263672,
          12.756148338317871,
          14.263306617736816,
          11.821820259094238,
          13.999077796936035,
          12.432733535766602,
          12.005800247192383,
          14.492865562438965,
          10.780651092529297,
          14.263998031616211,
          14.894317626953125,
          9.123507499694824,
          14.10037612915039,
          13.489811897277832,
          13.817573547363281,
          8.988884925842285,
          11.31616497039795,
          12.26504898071289,
          12.500277519226074,
          12.922627449035645,
          10.595555305480957,
          10.503911018371582,
          12.24837589263916,
          12.026944160461426,
          12.557271957397461,
          11.862093925476074,
          13.850203514099121,
          12.066694259643555,
          10.956426620483398,
          14.291620254516602,
          9.86189079284668,
          13.411977767944336,
          14.237741470336914,
          11.968663215637207,
          14.123409271240234,
          13.360516548156738,
          13.478776931762695,
          7.219574928283691,
          12.349581718444824,
          10.19202995300293,
          12.165509223937988,
          13.81277847290039,
          11.026533126831055,
          14.425247192382812,
          11.347733497619629,
          11.61941909790039,
          13.144272804260254,
          13.723335266113281,
          6.514316082000732,
          11.684796333312988,
          13.242714881896973,
          7.488432884216309,
          12.95199203491211,
          11.069622039794922,
          8.051641464233398,
          12.964629173278809,
          6.291226387023926,
          14.150863647460938,
          14.548590660095215,
          13.502012252807617,
          13.007888793945312,
          11.302284240722656,
          13.016542434692383,
          12.113126754760742,
          13.256635665893555,
          11.402266502380371,
          10.342033386230469,
          9.85212516784668,
          12.747387886047363,
          10.398180961608887,
          11.614100456237793,
          13.974780082702637,
          14.040966987609863,
          14.102055549621582,
          12.754345893859863,
          11.137313842773438,
          13.327020645141602,
          13.244986534118652,
          12.317888259887695,
          12.566164016723633,
          12.245615005493164,
          13.069422721862793,
          11.114850997924805,
          12.650660514831543,
          7.937296390533447,
          14.25764274597168,
          10.37606430053711,
          13.786933898925781,
          13.876771926879883,
          11.01635456085205,
          10.623103141784668,
          12.773155212402344,
          12.30356502532959,
          13.066802978515625,
          14.130841255187988,
          10.430237770080566,
          10.39298152923584,
          11.050284385681152,
          11.919218063354492,
          3.328784465789795,
          11.816850662231445,
          11.730467796325684,
          11.911721229553223,
          11.948451042175293,
          12.000816345214844,
          11.118643760681152,
          10.075488090515137,
          11.740951538085938,
          11.642677307128906,
          10.097978591918945,
          12.064693450927734,
          11.739102363586426,
          13.524374008178711,
          13.54588508605957,
          11.71390151977539,
          13.082649230957031,
          12.157876968383789,
          13.205954551696777,
          10.389756202697754,
          11.986763954162598,
          9.430980682373047,
          12.826089859008789,
          12.267573356628418,
          12.07535171508789,
          11.962158203125,
          13.255648612976074,
          13.284071922302246,
          11.322022438049316,
          10.78049373626709,
          12.644948959350586,
          10.925524711608887,
          12.424151420593262,
          11.611783981323242,
          9.885757446289062,
          13.125728607177734,
          11.79672622680664,
          10.063383102416992,
          13.090304374694824,
          12.941811561584473,
          12.202239990234375,
          11.677119255065918,
          11.906150817871094,
          14.20568561553955,
          11.992241859436035,
          5.866714954376221,
          11.960333824157715,
          10.276286125183105,
          12.445510864257812,
          11.898632049560547,
          14.31913948059082,
          11.649676322937012,
          13.193041801452637,
          12.999171257019043,
          12.79257869720459,
          7.034307956695557,
          12.38694953918457,
          12.196188926696777,
          13.107807159423828,
          10.733171463012695,
          7.589132785797119,
          12.345715522766113,
          10.197084426879883,
          12.875411033630371,
          13.420217514038086,
          12.20873737335205,
          9.206561088562012,
          12.734518051147461,
          11.139195442199707,
          12.007989883422852,
          10.936607360839844,
          11.237282752990723,
          11.983986854553223,
          9.756304740905762,
          13.294197082519531,
          10.222944259643555,
          8.812785148620605,
          9.358257293701172,
          7.360193729400635,
          10.50926685333252,
          8.270891189575195,
          10.465486526489258,
          12.599287033081055,
          12.512839317321777,
          12.363341331481934,
          11.38249683380127,
          13.151885032653809,
          12.176688194274902,
          10.043108940124512,
          10.855826377868652,
          10.222579002380371,
          11.667366981506348,
          11.45987606048584,
          12.502870559692383,
          9.928449630737305,
          12.713726043701172,
          10.343940734863281,
          11.420437812805176,
          7.9208903312683105,
          9.671568870544434,
          13.429194450378418,
          10.615945816040039,
          8.61087417602539,
          12.647850036621094,
          13.943382263183594,
          10.943527221679688,
          7.550374507904053,
          11.1258544921875,
          13.273252487182617,
          11.666284561157227,
          11.201286315917969,
          12.455218315124512,
          9.21351146697998,
          9.839056968688965,
          11.759866714477539,
          11.475394248962402,
          11.942261695861816,
          13.287775039672852,
          11.232090950012207,
          13.10701847076416,
          10.595490455627441,
          14.386960983276367,
          14.510817527770996,
          13.405168533325195,
          9.249632835388184,
          11.486716270446777,
          12.270023345947266,
          9.7761812210083,
          11.432169914245605,
          10.779778480529785,
          12.27817440032959,
          13.166900634765625,
          6.24711275100708,
          14.784318923950195,
          5.2554450035095215,
          10.79970932006836,
          11.944567680358887,
          14.46274185180664,
          13.729239463806152,
          12.702554702758789,
          3.5407204627990723,
          14.021306037902832,
          12.535758018493652,
          11.98629093170166,
          13.487019538879395,
          10.115355491638184,
          9.871969223022461,
          11.309503555297852,
          13.555582046508789,
          12.308993339538574,
          11.98659896850586,
          8.657156944274902,
          13.134254455566406,
          14.137313842773438,
          12.023743629455566,
          9.866514205932617,
          12.413105010986328,
          12.423609733581543,
          9.336962699890137,
          13.288963317871094,
          12.41943073272705,
          11.5380859375,
          11.111974716186523,
          12.549086570739746,
          10.996967315673828,
          11.48067569732666,
          10.034345626831055,
          11.648255348205566,
          11.527375221252441,
          12.376792907714844,
          12.105046272277832,
          12.324844360351562,
          8.688451766967773,
          10.170212745666504,
          12.346020698547363,
          12.898486137390137,
          12.697027206420898,
          14.09228515625,
          6.814448356628418,
          11.936480522155762,
          13.398506164550781,
          11.446494102478027,
          11.79830551147461,
          9.629981994628906,
          9.058701515197754,
          12.187697410583496,
          11.938708305358887,
          11.95157527923584,
          12.238933563232422,
          14.441959381103516,
          13.449737548828125,
          9.870524406433105,
          14.006415367126465,
          10.615678787231445,
          11.93030071258545,
          11.482147216796875,
          13.334146499633789,
          11.87377643585205,
          11.642926216125488,
          9.9871826171875,
          12.50749397277832,
          13.867533683776855,
          7.997716903686523,
          11.653724670410156
         ],
         "xaxis": "x",
         "y": [
          10.526329040527344,
          -2.276702880859375,
          0.4344491958618164,
          -2.789440155029297,
          -1.221695899963379,
          -0.8783740997314453,
          -0.3785972595214844,
          0.03307533264160156,
          1.8889951705932617,
          1.3561902046203613,
          0.2732410430908203,
          -4.256608009338379,
          0.6291799545288086,
          3.744710922241211,
          -1.7812023162841797,
          0.007678985595703125,
          -0.4598884582519531,
          -1.107802391052246,
          0.3555583953857422,
          0.2708244323730469,
          -1.2171001434326172,
          -1.266963005065918,
          -0.2805013656616211,
          0.5076179504394531,
          0.6171655654907227,
          0.6124591827392578,
          -0.10484695434570312,
          -1.517995834350586,
          0.4747200012207031,
          -0.03107166290283203,
          -1.9051790237426758,
          -0.7404556274414062,
          -1.6084251403808594,
          -1.5473060607910156,
          -0.7618980407714844,
          0.10715770721435547,
          1.317831039428711,
          -3.7672204971313477,
          -1.0356760025024414,
          -1.4389638900756836,
          -2.690455436706543,
          -1.1574292182922363,
          0.01575756072998047,
          -3.5940542221069336,
          -0.58441162109375,
          -1.7703933715820312,
          -2.840585708618164,
          12.676148414611816,
          0.5433063507080078,
          -0.733180046081543,
          0.01907825469970703,
          -1.6722660064697266,
          -3.6541996002197266,
          -0.16713428497314453,
          -1.2693490982055664,
          -0.5860023498535156,
          3.6093177795410156,
          -0.1414928436279297,
          0.1503763198852539,
          1.634812355041504,
          -1.4224262237548828,
          0.9038848876953125,
          -2.3738346099853516,
          0.07004928588867188,
          0.29527759552001953,
          -2.152372360229492,
          -1.404444694519043,
          -0.7910890579223633,
          0.9483757019042969,
          -1.6230554580688477,
          0.41727161407470703,
          -0.48790645599365234,
          -1.024796485900879,
          -2.6783056259155273,
          5.99142599105835,
          0.07161998748779297,
          -2.363109588623047,
          1.666977882385254,
          0.06774139404296875,
          -1.896336555480957,
          1.823409080505371,
          6.210516452789307,
          2.7687768936157227,
          -3.1404247283935547,
          1.119582176208496,
          -1.272970199584961,
          -2.394491195678711,
          1.0827789306640625,
          -0.428466796875,
          12.660247802734375,
          0.6477336883544922,
          -2.3705806732177734,
          -1.860727310180664,
          2.183335304260254,
          -4.2556843757629395,
          -0.3002033233642578,
          -0.47728538513183594,
          -1.5065670013427734,
          -0.3930082321166992,
          -0.44537830352783203,
          -0.5483589172363281,
          -0.25537109375,
          -0.8837738037109375,
          -1.069136619567871,
          -0.1964092254638672,
          -0.6329879760742188,
          -1.1921110153198242,
          -1.2877159118652344,
          -1.1134576797485352,
          -1.5468730926513672,
          0.6566352844238281,
          -1.2377338409423828,
          -1.8129663467407227,
          4.767125129699707,
          -1.6426124572753906,
          -0.9868192672729492,
          -1.2158994674682617,
          -1.2552194595336914,
          -1.4290332794189453,
          -1.0629444122314453,
          -0.7256536483764648,
          -0.7326860427856445,
          0.5470209121704102,
          -0.795013427734375,
          -1.617112159729004,
          -0.8788356781005859,
          -0.39438533782958984,
          -1.0955772399902344,
          0.4248514175415039,
          -1.2593393325805664,
          -0.9677033424377441,
          -0.33235740661621094,
          0.006064414978027344,
          -1.0480661392211914,
          0.9267721176147461,
          0.10135459899902344,
          1.0731029510498047,
          6.143155097961426,
          0.20856475830078125,
          -1.168196678161621,
          1.6208410263061523,
          -0.8997621536254883,
          -0.8470182418823242,
          -0.009716033935546875,
          0.7292184829711914,
          -0.6262154579162598,
          0.2568502426147461,
          0.2454681396484375,
          -1.2032785415649414,
          0.5234508514404297,
          0.6258163452148438,
          0.6086435317993164,
          -1.1545114517211914,
          -0.7390480041503906,
          -0.5123224258422852,
          -3.8970212936401367,
          -0.17030620574951172,
          1.8741025924682617,
          -0.5006256103515625,
          0.13588523864746094,
          -0.1560983657836914,
          0.2926492691040039,
          -1.5171232223510742,
          -1.339045524597168,
          -0.6052436828613281,
          -0.7332363128662109,
          -3.934019088745117,
          -0.8739099502563477,
          -2.6374263763427734,
          1.8403520584106445,
          -2.6228418350219727,
          1.0156488418579102,
          -1.8159284591674805,
          10.997021675109863,
          0.4704933166503906,
          -0.4250507354736328,
          -1.154475212097168,
          -0.47084903717041016,
          -1.443216323852539,
          6.115757465362549,
          -0.409271240234375,
          -1.79327392578125,
          -1.416616439819336,
          1.8153047561645508,
          -0.4231882095336914,
          -0.4977598190307617,
          -1.3078804016113281,
          -2.1538496017456055,
          -0.01931476593017578,
          0.06724166870117188,
          -0.6732850074768066,
          1.9753341674804688,
          -1.2137136459350586,
          -1.0744895935058594,
          -1.9113683700561523,
          1.289139747619629,
          -0.2653236389160156,
          0.1480417251586914,
          -2.0558290481567383,
          -3.087421417236328,
          6.699307441711426,
          -0.21305084228515625,
          -2.71881103515625,
          1.1878070831298828,
          -0.4668283462524414,
          -2.770866870880127,
          -0.949284553527832,
          -0.4379158020019531,
          -0.9995889663696289,
          -0.6347827911376953,
          7.798737525939941,
          -0.618438720703125,
          -1.5704822540283203,
          -3.365804672241211,
          0.6879901885986328,
          0.3216075897216797,
          0.3222827911376953,
          -0.24601268768310547,
          -0.9686956405639648,
          -0.22080326080322266,
          -2.0070552825927734,
          1.2377853393554688,
          1.0732574462890625,
          -0.9898066520690918,
          -3.6307334899902344,
          -3.1241092681884766,
          -1.0595130920410156,
          -0.480712890625,
          0.5278396606445312,
          -1.846658706665039,
          -0.6975030899047852,
          -0.45311450958251953,
          0.641688346862793,
          -1.8268909454345703,
          -0.5491733551025391,
          -1.132420539855957,
          -0.2626333236694336,
          -0.3151235580444336,
          0.007870674133300781,
          -2.9865503311157227,
          -2.7162742614746094,
          0.4889411926269531,
          1.0704374313354492,
          -4.134109973907471,
          -1.0684309005737305,
          0.3891944885253906,
          -1.3990545272827148,
          -0.9941253662109375,
          -0.9521503448486328,
          0.0133819580078125,
          -1.8064727783203125,
          -2.399625301361084,
          0.13585472106933594,
          -1.276747703552246,
          -2.653715133666992,
          4.771286487579346,
          -1.0297813415527344,
          -0.2264881134033203,
          -2.9609432220458984,
          -2.0851335525512695,
          -0.2346057891845703,
          -1.1427383422851562,
          0.7027750015258789,
          -1.5779094696044922,
          -0.6879816055297852,
          -0.564509391784668,
          -0.033039093017578125,
          0.6758174896240234,
          1.3051681518554688,
          2.8996329307556152,
          -3.7782840728759766,
          -1.8499765396118164,
          1.7161808013916016,
          -0.5878305435180664,
          -1.4652214050292969,
          1.8531742095947266,
          -0.4230995178222656,
          -0.5478873252868652,
          -0.1956806182861328,
          2.085444450378418,
          -1.2702903747558594,
          -2.6104326248168945,
          -0.5822582244873047,
          -1.1157608032226562,
          -0.3974456787109375,
          -2.219280242919922,
          -0.48369407653808594,
          0.0057582855224609375,
          0.4612913131713867,
          2.4320192337036133,
          -3.5696449279785156,
          -2.498030662536621,
          -2.540496826171875,
          -0.28441810607910156,
          -1.6360063552856445,
          0.581599235534668,
          1.9421567916870117,
          2.604254722595215,
          -0.7126865386962891,
          -1.4412565231323242,
          -2.0834856033325195,
          0.12310504913330078,
          0.4986095428466797,
          -3.883037567138672,
          -1.3010368347167969,
          -0.2855691909790039,
          0.5080862045288086,
          4.5569748878479,
          -0.6459131240844727,
          -1.1080322265625,
          -2.279324531555176,
          -0.800654411315918,
          0.9082555770874023,
          0.022375106811523438,
          -1.6382074356079102,
          -1.4399538040161133,
          -0.2501554489135742,
          -0.3215484619140625,
          -0.2797870635986328,
          -1.5489797592163086,
          -1.1465139389038086,
          -1.0529727935791016,
          -0.43271446228027344,
          -2.4905519485473633,
          0.17648029327392578,
          1.2885065078735352,
          -0.6685056686401367,
          0.9533052444458008,
          -2.295018196105957,
          -0.15629863739013672,
          -0.24730300903320312,
          -1.8112916946411133,
          -0.1834249496459961,
          0.8089332580566406,
          2.871959686279297,
          -0.18026256561279297,
          -1.4544754028320312,
          0.9764156341552734,
          -0.23432159423828125,
          1.3503007888793945,
          -0.3028526306152344,
          -0.5158538818359375,
          -1.3912239074707031,
          -0.8120737075805664,
          -0.2328176498413086,
          -0.7375059127807617,
          -0.1974658966064453,
          0.6177167892456055,
          -0.9562749862670898
         ],
         "yaxis": "y"
        }
       ],
       "layout": {
        "font": {
         "color": "#000000",
         "family": "Helvetica",
         "size": 14
        },
        "height": 400,
        "legend": {
         "tracegroupgap": 0
        },
        "margin": {
         "t": 60
        },
        "shapes": [
         {
          "line": {
           "dash": "dash",
           "width": 3
          },
          "type": "line",
          "x0": 0,
          "x1": 1,
          "xref": "x domain",
          "y0": 0,
          "y1": 0,
          "yref": "y"
         }
        ],
        "showlegend": false,
        "template": {
         "data": {
          "bar": [
           {
            "error_x": {
             "color": "#2a3f5f"
            },
            "error_y": {
             "color": "#2a3f5f"
            },
            "marker": {
             "line": {
              "color": "white",
              "width": 0.5
             },
             "pattern": {
              "fillmode": "overlay",
              "size": 10,
              "solidity": 0.2
             }
            },
            "type": "bar"
           }
          ],
          "barpolar": [
           {
            "marker": {
             "line": {
              "color": "white",
              "width": 0.5
             },
             "pattern": {
              "fillmode": "overlay",
              "size": 10,
              "solidity": 0.2
             }
            },
            "type": "barpolar"
           }
          ],
          "carpet": [
           {
            "aaxis": {
             "endlinecolor": "#2a3f5f",
             "gridcolor": "#C8D4E3",
             "linecolor": "#C8D4E3",
             "minorgridcolor": "#C8D4E3",
             "startlinecolor": "#2a3f5f"
            },
            "baxis": {
             "endlinecolor": "#2a3f5f",
             "gridcolor": "#C8D4E3",
             "linecolor": "#C8D4E3",
             "minorgridcolor": "#C8D4E3",
             "startlinecolor": "#2a3f5f"
            },
            "type": "carpet"
           }
          ],
          "choropleth": [
           {
            "colorbar": {
             "outlinewidth": 0,
             "ticks": ""
            },
            "type": "choropleth"
           }
          ],
          "contour": [
           {
            "colorbar": {
             "outlinewidth": 0,
             "ticks": ""
            },
            "colorscale": [
             [
              0,
              "#0d0887"
             ],
             [
              0.1111111111111111,
              "#46039f"
             ],
             [
              0.2222222222222222,
              "#7201a8"
             ],
             [
              0.3333333333333333,
              "#9c179e"
             ],
             [
              0.4444444444444444,
              "#bd3786"
             ],
             [
              0.5555555555555556,
              "#d8576b"
             ],
             [
              0.6666666666666666,
              "#ed7953"
             ],
             [
              0.7777777777777778,
              "#fb9f3a"
             ],
             [
              0.8888888888888888,
              "#fdca26"
             ],
             [
              1,
              "#f0f921"
             ]
            ],
            "type": "contour"
           }
          ],
          "contourcarpet": [
           {
            "colorbar": {
             "outlinewidth": 0,
             "ticks": ""
            },
            "type": "contourcarpet"
           }
          ],
          "heatmap": [
           {
            "colorbar": {
             "outlinewidth": 0,
             "ticks": ""
            },
            "colorscale": [
             [
              0,
              "#0d0887"
             ],
             [
              0.1111111111111111,
              "#46039f"
             ],
             [
              0.2222222222222222,
              "#7201a8"
             ],
             [
              0.3333333333333333,
              "#9c179e"
             ],
             [
              0.4444444444444444,
              "#bd3786"
             ],
             [
              0.5555555555555556,
              "#d8576b"
             ],
             [
              0.6666666666666666,
              "#ed7953"
             ],
             [
              0.7777777777777778,
              "#fb9f3a"
             ],
             [
              0.8888888888888888,
              "#fdca26"
             ],
             [
              1,
              "#f0f921"
             ]
            ],
            "type": "heatmap"
           }
          ],
          "heatmapgl": [
           {
            "colorbar": {
             "outlinewidth": 0,
             "ticks": ""
            },
            "colorscale": [
             [
              0,
              "#0d0887"
             ],
             [
              0.1111111111111111,
              "#46039f"
             ],
             [
              0.2222222222222222,
              "#7201a8"
             ],
             [
              0.3333333333333333,
              "#9c179e"
             ],
             [
              0.4444444444444444,
              "#bd3786"
             ],
             [
              0.5555555555555556,
              "#d8576b"
             ],
             [
              0.6666666666666666,
              "#ed7953"
             ],
             [
              0.7777777777777778,
              "#fb9f3a"
             ],
             [
              0.8888888888888888,
              "#fdca26"
             ],
             [
              1,
              "#f0f921"
             ]
            ],
            "type": "heatmapgl"
           }
          ],
          "histogram": [
           {
            "marker": {
             "pattern": {
              "fillmode": "overlay",
              "size": 10,
              "solidity": 0.2
             }
            },
            "type": "histogram"
           }
          ],
          "histogram2d": [
           {
            "colorbar": {
             "outlinewidth": 0,
             "ticks": ""
            },
            "colorscale": [
             [
              0,
              "#0d0887"
             ],
             [
              0.1111111111111111,
              "#46039f"
             ],
             [
              0.2222222222222222,
              "#7201a8"
             ],
             [
              0.3333333333333333,
              "#9c179e"
             ],
             [
              0.4444444444444444,
              "#bd3786"
             ],
             [
              0.5555555555555556,
              "#d8576b"
             ],
             [
              0.6666666666666666,
              "#ed7953"
             ],
             [
              0.7777777777777778,
              "#fb9f3a"
             ],
             [
              0.8888888888888888,
              "#fdca26"
             ],
             [
              1,
              "#f0f921"
             ]
            ],
            "type": "histogram2d"
           }
          ],
          "histogram2dcontour": [
           {
            "colorbar": {
             "outlinewidth": 0,
             "ticks": ""
            },
            "colorscale": [
             [
              0,
              "#0d0887"
             ],
             [
              0.1111111111111111,
              "#46039f"
             ],
             [
              0.2222222222222222,
              "#7201a8"
             ],
             [
              0.3333333333333333,
              "#9c179e"
             ],
             [
              0.4444444444444444,
              "#bd3786"
             ],
             [
              0.5555555555555556,
              "#d8576b"
             ],
             [
              0.6666666666666666,
              "#ed7953"
             ],
             [
              0.7777777777777778,
              "#fb9f3a"
             ],
             [
              0.8888888888888888,
              "#fdca26"
             ],
             [
              1,
              "#f0f921"
             ]
            ],
            "type": "histogram2dcontour"
           }
          ],
          "mesh3d": [
           {
            "colorbar": {
             "outlinewidth": 0,
             "ticks": ""
            },
            "type": "mesh3d"
           }
          ],
          "parcoords": [
           {
            "line": {
             "colorbar": {
              "outlinewidth": 0,
              "ticks": ""
             }
            },
            "type": "parcoords"
           }
          ],
          "pie": [
           {
            "automargin": true,
            "type": "pie"
           }
          ],
          "scatter": [
           {
            "fillpattern": {
             "fillmode": "overlay",
             "size": 10,
             "solidity": 0.2
            },
            "type": "scatter"
           }
          ],
          "scatter3d": [
           {
            "line": {
             "colorbar": {
              "outlinewidth": 0,
              "ticks": ""
             }
            },
            "marker": {
             "colorbar": {
              "outlinewidth": 0,
              "ticks": ""
             }
            },
            "type": "scatter3d"
           }
          ],
          "scattercarpet": [
           {
            "marker": {
             "colorbar": {
              "outlinewidth": 0,
              "ticks": ""
             }
            },
            "type": "scattercarpet"
           }
          ],
          "scattergeo": [
           {
            "marker": {
             "colorbar": {
              "outlinewidth": 0,
              "ticks": ""
             }
            },
            "type": "scattergeo"
           }
          ],
          "scattergl": [
           {
            "marker": {
             "colorbar": {
              "outlinewidth": 0,
              "ticks": ""
             }
            },
            "type": "scattergl"
           }
          ],
          "scattermapbox": [
           {
            "marker": {
             "colorbar": {
              "outlinewidth": 0,
              "ticks": ""
             }
            },
            "type": "scattermapbox"
           }
          ],
          "scatterpolar": [
           {
            "marker": {
             "colorbar": {
              "outlinewidth": 0,
              "ticks": ""
             }
            },
            "type": "scatterpolar"
           }
          ],
          "scatterpolargl": [
           {
            "marker": {
             "colorbar": {
              "outlinewidth": 0,
              "ticks": ""
             }
            },
            "type": "scatterpolargl"
           }
          ],
          "scatterternary": [
           {
            "marker": {
             "colorbar": {
              "outlinewidth": 0,
              "ticks": ""
             }
            },
            "type": "scatterternary"
           }
          ],
          "surface": [
           {
            "colorbar": {
             "outlinewidth": 0,
             "ticks": ""
            },
            "colorscale": [
             [
              0,
              "#0d0887"
             ],
             [
              0.1111111111111111,
              "#46039f"
             ],
             [
              0.2222222222222222,
              "#7201a8"
             ],
             [
              0.3333333333333333,
              "#9c179e"
             ],
             [
              0.4444444444444444,
              "#bd3786"
             ],
             [
              0.5555555555555556,
              "#d8576b"
             ],
             [
              0.6666666666666666,
              "#ed7953"
             ],
             [
              0.7777777777777778,
              "#fb9f3a"
             ],
             [
              0.8888888888888888,
              "#fdca26"
             ],
             [
              1,
              "#f0f921"
             ]
            ],
            "type": "surface"
           }
          ],
          "table": [
           {
            "cells": {
             "fill": {
              "color": "#EBF0F8"
             },
             "line": {
              "color": "white"
             }
            },
            "header": {
             "fill": {
              "color": "#C8D4E3"
             },
             "line": {
              "color": "white"
             }
            },
            "type": "table"
           }
          ]
         },
         "layout": {
          "annotationdefaults": {
           "arrowcolor": "#2a3f5f",
           "arrowhead": 0,
           "arrowwidth": 1
          },
          "autotypenumbers": "strict",
          "coloraxis": {
           "colorbar": {
            "outlinewidth": 0,
            "ticks": ""
           }
          },
          "colorscale": {
           "diverging": [
            [
             0,
             "#8e0152"
            ],
            [
             0.1,
             "#c51b7d"
            ],
            [
             0.2,
             "#de77ae"
            ],
            [
             0.3,
             "#f1b6da"
            ],
            [
             0.4,
             "#fde0ef"
            ],
            [
             0.5,
             "#f7f7f7"
            ],
            [
             0.6,
             "#e6f5d0"
            ],
            [
             0.7,
             "#b8e186"
            ],
            [
             0.8,
             "#7fbc41"
            ],
            [
             0.9,
             "#4d9221"
            ],
            [
             1,
             "#276419"
            ]
           ],
           "sequential": [
            [
             0,
             "#0d0887"
            ],
            [
             0.1111111111111111,
             "#46039f"
            ],
            [
             0.2222222222222222,
             "#7201a8"
            ],
            [
             0.3333333333333333,
             "#9c179e"
            ],
            [
             0.4444444444444444,
             "#bd3786"
            ],
            [
             0.5555555555555556,
             "#d8576b"
            ],
            [
             0.6666666666666666,
             "#ed7953"
            ],
            [
             0.7777777777777778,
             "#fb9f3a"
            ],
            [
             0.8888888888888888,
             "#fdca26"
            ],
            [
             1,
             "#f0f921"
            ]
           ],
           "sequentialminus": [
            [
             0,
             "#0d0887"
            ],
            [
             0.1111111111111111,
             "#46039f"
            ],
            [
             0.2222222222222222,
             "#7201a8"
            ],
            [
             0.3333333333333333,
             "#9c179e"
            ],
            [
             0.4444444444444444,
             "#bd3786"
            ],
            [
             0.5555555555555556,
             "#d8576b"
            ],
            [
             0.6666666666666666,
             "#ed7953"
            ],
            [
             0.7777777777777778,
             "#fb9f3a"
            ],
            [
             0.8888888888888888,
             "#fdca26"
            ],
            [
             1,
             "#f0f921"
            ]
           ]
          },
          "colorway": [
           "#636efa",
           "#EF553B",
           "#00cc96",
           "#ab63fa",
           "#FFA15A",
           "#19d3f3",
           "#FF6692",
           "#B6E880",
           "#FF97FF",
           "#FECB52"
          ],
          "font": {
           "color": "#2a3f5f"
          },
          "geo": {
           "bgcolor": "white",
           "lakecolor": "white",
           "landcolor": "white",
           "showlakes": true,
           "showland": true,
           "subunitcolor": "#C8D4E3"
          },
          "hoverlabel": {
           "align": "left"
          },
          "hovermode": "closest",
          "mapbox": {
           "style": "light"
          },
          "paper_bgcolor": "white",
          "plot_bgcolor": "white",
          "polar": {
           "angularaxis": {
            "gridcolor": "#EBF0F8",
            "linecolor": "#EBF0F8",
            "ticks": ""
           },
           "bgcolor": "white",
           "radialaxis": {
            "gridcolor": "#EBF0F8",
            "linecolor": "#EBF0F8",
            "ticks": ""
           }
          },
          "scene": {
           "xaxis": {
            "backgroundcolor": "white",
            "gridcolor": "#DFE8F3",
            "gridwidth": 2,
            "linecolor": "#EBF0F8",
            "showbackground": true,
            "ticks": "",
            "zerolinecolor": "#EBF0F8"
           },
           "yaxis": {
            "backgroundcolor": "white",
            "gridcolor": "#DFE8F3",
            "gridwidth": 2,
            "linecolor": "#EBF0F8",
            "showbackground": true,
            "ticks": "",
            "zerolinecolor": "#EBF0F8"
           },
           "zaxis": {
            "backgroundcolor": "white",
            "gridcolor": "#DFE8F3",
            "gridwidth": 2,
            "linecolor": "#EBF0F8",
            "showbackground": true,
            "ticks": "",
            "zerolinecolor": "#EBF0F8"
           }
          },
          "shapedefaults": {
           "line": {
            "color": "#2a3f5f"
           }
          },
          "ternary": {
           "aaxis": {
            "gridcolor": "#DFE8F3",
            "linecolor": "#A2B1C6",
            "ticks": ""
           },
           "baxis": {
            "gridcolor": "#DFE8F3",
            "linecolor": "#A2B1C6",
            "ticks": ""
           },
           "bgcolor": "white",
           "caxis": {
            "gridcolor": "#DFE8F3",
            "linecolor": "#A2B1C6",
            "ticks": ""
           }
          },
          "title": {
           "x": 0.05
          },
          "xaxis": {
           "automargin": true,
           "gridcolor": "#EBF0F8",
           "linecolor": "#EBF0F8",
           "ticks": "",
           "title": {
            "standoff": 15
           },
           "zerolinecolor": "#EBF0F8",
           "zerolinewidth": 2
          },
          "yaxis": {
           "automargin": true,
           "gridcolor": "#EBF0F8",
           "linecolor": "#EBF0F8",
           "ticks": "",
           "title": {
            "standoff": 15
           },
           "zerolinecolor": "#EBF0F8",
           "zerolinewidth": 2
          }
         }
        },
        "width": 400,
        "xaxis": {
         "anchor": "y",
         "domain": [
          0,
          1
         ],
         "linewidth": 3,
         "showgrid": true,
         "showline": true,
         "tickfont": {
          "color": "rgb(0,0,0)",
          "family": "Helvetica",
          "size": 12
         },
         "title": {
          "text": "Predicted"
         },
         "zeroline": false
        },
        "yaxis": {
         "anchor": "x",
         "domain": [
          0,
          1
         ],
         "linewidth": 3,
         "range": [
          -15,
          15
         ],
         "showgrid": true,
         "showline": true,
         "showticklabels": true,
         "tickfont": {
          "color": "rgb(0,0,0)",
          "family": "Helvetica",
          "size": 12
         },
         "title": {
          "text": "Residual"
         },
         "zeroline": false
        }
       }
      },
      "text/html": [
       "<div>                            <div id=\"5998644a-c2c8-4211-a57f-14b146233253\" class=\"plotly-graph-div\" style=\"height:400px; width:400px;\"></div>            <script type=\"text/javascript\">                require([\"plotly\"], function(Plotly) {                    window.PLOTLYENV=window.PLOTLYENV || {};                                    if (document.getElementById(\"5998644a-c2c8-4211-a57f-14b146233253\")) {                    Plotly.newPlot(                        \"5998644a-c2c8-4211-a57f-14b146233253\",                        [{\"hovertemplate\":\"x=%{x}<br>y=%{y}<extra></extra>\",\"legendgroup\":\"\",\"marker\":{\"color\":\"#0059A0\",\"symbol\":\"circle\"},\"mode\":\"markers\",\"name\":\"\",\"orientation\":\"v\",\"showlegend\":false,\"x\":[11.056327819824219,8.563297271728516,12.304449081420898,11.805560111999512,11.828304290771484,14.191625595092773,8.841403007507324,10.998075485229492,10.903995513916016,8.006190299987793,12.158241271972656,3.438392162322998,14.0941801071167,13.369710922241211,11.618797302246094,13.057679176330566,14.490111351013184,12.017197608947754,14.33555793762207,12.190824508666992,11.247900009155273,14.083037376403809,12.55949878692627,12.162617683410645,12.107165336608887,11.437458992004395,8.325153350830078,11.407004356384277,13.964719772338867,11.493927955627441,10.334820747375488,12.114543914794922,13.421574592590332,13.022693634033203,13.123102188110352,11.487157821655273,12.487831115722656,12.452778816223145,10.85932445526123,11.031036376953125,11.924544334411621,7.122570514678955,12.590757369995117,12.220945358276367,12.445588111877441,10.729606628417969,9.294414520263672,12.756148338317871,14.263306617736816,11.821820259094238,13.999077796936035,12.432733535766602,12.005800247192383,14.492865562438965,10.780651092529297,14.263998031616211,14.894317626953125,9.123507499694824,14.10037612915039,13.489811897277832,13.817573547363281,8.988884925842285,11.31616497039795,12.26504898071289,12.500277519226074,12.922627449035645,10.595555305480957,10.503911018371582,12.24837589263916,12.026944160461426,12.557271957397461,11.862093925476074,13.850203514099121,12.066694259643555,10.956426620483398,14.291620254516602,9.86189079284668,13.411977767944336,14.237741470336914,11.968663215637207,14.123409271240234,13.360516548156738,13.478776931762695,7.219574928283691,12.349581718444824,10.19202995300293,12.165509223937988,13.81277847290039,11.026533126831055,14.425247192382812,11.347733497619629,11.61941909790039,13.144272804260254,13.723335266113281,6.514316082000732,11.684796333312988,13.242714881896973,7.488432884216309,12.95199203491211,11.069622039794922,8.051641464233398,12.964629173278809,6.291226387023926,14.150863647460938,14.548590660095215,13.502012252807617,13.007888793945312,11.302284240722656,13.016542434692383,12.113126754760742,13.256635665893555,11.402266502380371,10.342033386230469,9.85212516784668,12.747387886047363,10.398180961608887,11.614100456237793,13.974780082702637,14.040966987609863,14.102055549621582,12.754345893859863,11.137313842773438,13.327020645141602,13.244986534118652,12.317888259887695,12.566164016723633,12.245615005493164,13.069422721862793,11.114850997924805,12.650660514831543,7.937296390533447,14.25764274597168,10.37606430053711,13.786933898925781,13.876771926879883,11.01635456085205,10.623103141784668,12.773155212402344,12.30356502532959,13.066802978515625,14.130841255187988,10.430237770080566,10.39298152923584,11.050284385681152,11.919218063354492,3.328784465789795,11.816850662231445,11.730467796325684,11.911721229553223,11.948451042175293,12.000816345214844,11.118643760681152,10.075488090515137,11.740951538085938,11.642677307128906,10.097978591918945,12.064693450927734,11.739102363586426,13.524374008178711,13.54588508605957,11.71390151977539,13.082649230957031,12.157876968383789,13.205954551696777,10.389756202697754,11.986763954162598,9.430980682373047,12.826089859008789,12.267573356628418,12.07535171508789,11.962158203125,13.255648612976074,13.284071922302246,11.322022438049316,10.78049373626709,12.644948959350586,10.925524711608887,12.424151420593262,11.611783981323242,9.885757446289062,13.125728607177734,11.79672622680664,10.063383102416992,13.090304374694824,12.941811561584473,12.202239990234375,11.677119255065918,11.906150817871094,14.20568561553955,11.992241859436035,5.866714954376221,11.960333824157715,10.276286125183105,12.445510864257812,11.898632049560547,14.31913948059082,11.649676322937012,13.193041801452637,12.999171257019043,12.79257869720459,7.034307956695557,12.38694953918457,12.196188926696777,13.107807159423828,10.733171463012695,7.589132785797119,12.345715522766113,10.197084426879883,12.875411033630371,13.420217514038086,12.20873737335205,9.206561088562012,12.734518051147461,11.139195442199707,12.007989883422852,10.936607360839844,11.237282752990723,11.983986854553223,9.756304740905762,13.294197082519531,10.222944259643555,8.812785148620605,9.358257293701172,7.360193729400635,10.50926685333252,8.270891189575195,10.465486526489258,12.599287033081055,12.512839317321777,12.363341331481934,11.38249683380127,13.151885032653809,12.176688194274902,10.043108940124512,10.855826377868652,10.222579002380371,11.667366981506348,11.45987606048584,12.502870559692383,9.928449630737305,12.713726043701172,10.343940734863281,11.420437812805176,7.9208903312683105,9.671568870544434,13.429194450378418,10.615945816040039,8.61087417602539,12.647850036621094,13.943382263183594,10.943527221679688,7.550374507904053,11.1258544921875,13.273252487182617,11.666284561157227,11.201286315917969,12.455218315124512,9.21351146697998,9.839056968688965,11.759866714477539,11.475394248962402,11.942261695861816,13.287775039672852,11.232090950012207,13.10701847076416,10.595490455627441,14.386960983276367,14.510817527770996,13.405168533325195,9.249632835388184,11.486716270446777,12.270023345947266,9.7761812210083,11.432169914245605,10.779778480529785,12.27817440032959,13.166900634765625,6.24711275100708,14.784318923950195,5.2554450035095215,10.79970932006836,11.944567680358887,14.46274185180664,13.729239463806152,12.702554702758789,3.5407204627990723,14.021306037902832,12.535758018493652,11.98629093170166,13.487019538879395,10.115355491638184,9.871969223022461,11.309503555297852,13.555582046508789,12.308993339538574,11.98659896850586,8.657156944274902,13.134254455566406,14.137313842773438,12.023743629455566,9.866514205932617,12.413105010986328,12.423609733581543,9.336962699890137,13.288963317871094,12.41943073272705,11.5380859375,11.111974716186523,12.549086570739746,10.996967315673828,11.48067569732666,10.034345626831055,11.648255348205566,11.527375221252441,12.376792907714844,12.105046272277832,12.324844360351562,8.688451766967773,10.170212745666504,12.346020698547363,12.898486137390137,12.697027206420898,14.09228515625,6.814448356628418,11.936480522155762,13.398506164550781,11.446494102478027,11.79830551147461,9.629981994628906,9.058701515197754,12.187697410583496,11.938708305358887,11.95157527923584,12.238933563232422,14.441959381103516,13.449737548828125,9.870524406433105,14.006415367126465,10.615678787231445,11.93030071258545,11.482147216796875,13.334146499633789,11.87377643585205,11.642926216125488,9.9871826171875,12.50749397277832,13.867533683776855,7.997716903686523,11.653724670410156],\"xaxis\":\"x\",\"y\":[10.526329040527344,-2.276702880859375,0.4344491958618164,-2.789440155029297,-1.221695899963379,-0.8783740997314453,-0.3785972595214844,0.03307533264160156,1.8889951705932617,1.3561902046203613,0.2732410430908203,-4.256608009338379,0.6291799545288086,3.744710922241211,-1.7812023162841797,0.007678985595703125,-0.4598884582519531,-1.107802391052246,0.3555583953857422,0.2708244323730469,-1.2171001434326172,-1.266963005065918,-0.2805013656616211,0.5076179504394531,0.6171655654907227,0.6124591827392578,-0.10484695434570312,-1.517995834350586,0.4747200012207031,-0.03107166290283203,-1.9051790237426758,-0.7404556274414062,-1.6084251403808594,-1.5473060607910156,-0.7618980407714844,0.10715770721435547,1.317831039428711,-3.7672204971313477,-1.0356760025024414,-1.4389638900756836,-2.690455436706543,-1.1574292182922363,0.01575756072998047,-3.5940542221069336,-0.58441162109375,-1.7703933715820312,-2.840585708618164,12.676148414611816,0.5433063507080078,-0.733180046081543,0.01907825469970703,-1.6722660064697266,-3.6541996002197266,-0.16713428497314453,-1.2693490982055664,-0.5860023498535156,3.6093177795410156,-0.1414928436279297,0.1503763198852539,1.634812355041504,-1.4224262237548828,0.9038848876953125,-2.3738346099853516,0.07004928588867188,0.29527759552001953,-2.152372360229492,-1.404444694519043,-0.7910890579223633,0.9483757019042969,-1.6230554580688477,0.41727161407470703,-0.48790645599365234,-1.024796485900879,-2.6783056259155273,5.99142599105835,0.07161998748779297,-2.363109588623047,1.666977882385254,0.06774139404296875,-1.896336555480957,1.823409080505371,6.210516452789307,2.7687768936157227,-3.1404247283935547,1.119582176208496,-1.272970199584961,-2.394491195678711,1.0827789306640625,-0.428466796875,12.660247802734375,0.6477336883544922,-2.3705806732177734,-1.860727310180664,2.183335304260254,-4.2556843757629395,-0.3002033233642578,-0.47728538513183594,-1.5065670013427734,-0.3930082321166992,-0.44537830352783203,-0.5483589172363281,-0.25537109375,-0.8837738037109375,-1.069136619567871,-0.1964092254638672,-0.6329879760742188,-1.1921110153198242,-1.2877159118652344,-1.1134576797485352,-1.5468730926513672,0.6566352844238281,-1.2377338409423828,-1.8129663467407227,4.767125129699707,-1.6426124572753906,-0.9868192672729492,-1.2158994674682617,-1.2552194595336914,-1.4290332794189453,-1.0629444122314453,-0.7256536483764648,-0.7326860427856445,0.5470209121704102,-0.795013427734375,-1.617112159729004,-0.8788356781005859,-0.39438533782958984,-1.0955772399902344,0.4248514175415039,-1.2593393325805664,-0.9677033424377441,-0.33235740661621094,0.006064414978027344,-1.0480661392211914,0.9267721176147461,0.10135459899902344,1.0731029510498047,6.143155097961426,0.20856475830078125,-1.168196678161621,1.6208410263061523,-0.8997621536254883,-0.8470182418823242,-0.009716033935546875,0.7292184829711914,-0.6262154579162598,0.2568502426147461,0.2454681396484375,-1.2032785415649414,0.5234508514404297,0.6258163452148438,0.6086435317993164,-1.1545114517211914,-0.7390480041503906,-0.5123224258422852,-3.8970212936401367,-0.17030620574951172,1.8741025924682617,-0.5006256103515625,0.13588523864746094,-0.1560983657836914,0.2926492691040039,-1.5171232223510742,-1.339045524597168,-0.6052436828613281,-0.7332363128662109,-3.934019088745117,-0.8739099502563477,-2.6374263763427734,1.8403520584106445,-2.6228418350219727,1.0156488418579102,-1.8159284591674805,10.997021675109863,0.4704933166503906,-0.4250507354736328,-1.154475212097168,-0.47084903717041016,-1.443216323852539,6.115757465362549,-0.409271240234375,-1.79327392578125,-1.416616439819336,1.8153047561645508,-0.4231882095336914,-0.4977598190307617,-1.3078804016113281,-2.1538496017456055,-0.01931476593017578,0.06724166870117188,-0.6732850074768066,1.9753341674804688,-1.2137136459350586,-1.0744895935058594,-1.9113683700561523,1.289139747619629,-0.2653236389160156,0.1480417251586914,-2.0558290481567383,-3.087421417236328,6.699307441711426,-0.21305084228515625,-2.71881103515625,1.1878070831298828,-0.4668283462524414,-2.770866870880127,-0.949284553527832,-0.4379158020019531,-0.9995889663696289,-0.6347827911376953,7.798737525939941,-0.618438720703125,-1.5704822540283203,-3.365804672241211,0.6879901885986328,0.3216075897216797,0.3222827911376953,-0.24601268768310547,-0.9686956405639648,-0.22080326080322266,-2.0070552825927734,1.2377853393554688,1.0732574462890625,-0.9898066520690918,-3.6307334899902344,-3.1241092681884766,-1.0595130920410156,-0.480712890625,0.5278396606445312,-1.846658706665039,-0.6975030899047852,-0.45311450958251953,0.641688346862793,-1.8268909454345703,-0.5491733551025391,-1.132420539855957,-0.2626333236694336,-0.3151235580444336,0.007870674133300781,-2.9865503311157227,-2.7162742614746094,0.4889411926269531,1.0704374313354492,-4.134109973907471,-1.0684309005737305,0.3891944885253906,-1.3990545272827148,-0.9941253662109375,-0.9521503448486328,0.0133819580078125,-1.8064727783203125,-2.399625301361084,0.13585472106933594,-1.276747703552246,-2.653715133666992,4.771286487579346,-1.0297813415527344,-0.2264881134033203,-2.9609432220458984,-2.0851335525512695,-0.2346057891845703,-1.1427383422851562,0.7027750015258789,-1.5779094696044922,-0.6879816055297852,-0.564509391784668,-0.033039093017578125,0.6758174896240234,1.3051681518554688,2.8996329307556152,-3.7782840728759766,-1.8499765396118164,1.7161808013916016,-0.5878305435180664,-1.4652214050292969,1.8531742095947266,-0.4230995178222656,-0.5478873252868652,-0.1956806182861328,2.085444450378418,-1.2702903747558594,-2.6104326248168945,-0.5822582244873047,-1.1157608032226562,-0.3974456787109375,-2.219280242919922,-0.48369407653808594,0.0057582855224609375,0.4612913131713867,2.4320192337036133,-3.5696449279785156,-2.498030662536621,-2.540496826171875,-0.28441810607910156,-1.6360063552856445,0.581599235534668,1.9421567916870117,2.604254722595215,-0.7126865386962891,-1.4412565231323242,-2.0834856033325195,0.12310504913330078,0.4986095428466797,-3.883037567138672,-1.3010368347167969,-0.2855691909790039,0.5080862045288086,4.5569748878479,-0.6459131240844727,-1.1080322265625,-2.279324531555176,-0.800654411315918,0.9082555770874023,0.022375106811523438,-1.6382074356079102,-1.4399538040161133,-0.2501554489135742,-0.3215484619140625,-0.2797870635986328,-1.5489797592163086,-1.1465139389038086,-1.0529727935791016,-0.43271446228027344,-2.4905519485473633,0.17648029327392578,1.2885065078735352,-0.6685056686401367,0.9533052444458008,-2.295018196105957,-0.15629863739013672,-0.24730300903320312,-1.8112916946411133,-0.1834249496459961,0.8089332580566406,2.871959686279297,-0.18026256561279297,-1.4544754028320312,0.9764156341552734,-0.23432159423828125,1.3503007888793945,-0.3028526306152344,-0.5158538818359375,-1.3912239074707031,-0.8120737075805664,-0.2328176498413086,-0.7375059127807617,-0.1974658966064453,0.6177167892456055,-0.9562749862670898],\"yaxis\":\"y\",\"type\":\"scatter\",\"line\":{\"width\":3}}],                        {\"template\":{\"data\":{\"barpolar\":[{\"marker\":{\"line\":{\"color\":\"white\",\"width\":0.5},\"pattern\":{\"fillmode\":\"overlay\",\"size\":10,\"solidity\":0.2}},\"type\":\"barpolar\"}],\"bar\":[{\"error_x\":{\"color\":\"#2a3f5f\"},\"error_y\":{\"color\":\"#2a3f5f\"},\"marker\":{\"line\":{\"color\":\"white\",\"width\":0.5},\"pattern\":{\"fillmode\":\"overlay\",\"size\":10,\"solidity\":0.2}},\"type\":\"bar\"}],\"carpet\":[{\"aaxis\":{\"endlinecolor\":\"#2a3f5f\",\"gridcolor\":\"#C8D4E3\",\"linecolor\":\"#C8D4E3\",\"minorgridcolor\":\"#C8D4E3\",\"startlinecolor\":\"#2a3f5f\"},\"baxis\":{\"endlinecolor\":\"#2a3f5f\",\"gridcolor\":\"#C8D4E3\",\"linecolor\":\"#C8D4E3\",\"minorgridcolor\":\"#C8D4E3\",\"startlinecolor\":\"#2a3f5f\"},\"type\":\"carpet\"}],\"choropleth\":[{\"colorbar\":{\"outlinewidth\":0,\"ticks\":\"\"},\"type\":\"choropleth\"}],\"contourcarpet\":[{\"colorbar\":{\"outlinewidth\":0,\"ticks\":\"\"},\"type\":\"contourcarpet\"}],\"contour\":[{\"colorbar\":{\"outlinewidth\":0,\"ticks\":\"\"},\"colorscale\":[[0.0,\"#0d0887\"],[0.1111111111111111,\"#46039f\"],[0.2222222222222222,\"#7201a8\"],[0.3333333333333333,\"#9c179e\"],[0.4444444444444444,\"#bd3786\"],[0.5555555555555556,\"#d8576b\"],[0.6666666666666666,\"#ed7953\"],[0.7777777777777778,\"#fb9f3a\"],[0.8888888888888888,\"#fdca26\"],[1.0,\"#f0f921\"]],\"type\":\"contour\"}],\"heatmapgl\":[{\"colorbar\":{\"outlinewidth\":0,\"ticks\":\"\"},\"colorscale\":[[0.0,\"#0d0887\"],[0.1111111111111111,\"#46039f\"],[0.2222222222222222,\"#7201a8\"],[0.3333333333333333,\"#9c179e\"],[0.4444444444444444,\"#bd3786\"],[0.5555555555555556,\"#d8576b\"],[0.6666666666666666,\"#ed7953\"],[0.7777777777777778,\"#fb9f3a\"],[0.8888888888888888,\"#fdca26\"],[1.0,\"#f0f921\"]],\"type\":\"heatmapgl\"}],\"heatmap\":[{\"colorbar\":{\"outlinewidth\":0,\"ticks\":\"\"},\"colorscale\":[[0.0,\"#0d0887\"],[0.1111111111111111,\"#46039f\"],[0.2222222222222222,\"#7201a8\"],[0.3333333333333333,\"#9c179e\"],[0.4444444444444444,\"#bd3786\"],[0.5555555555555556,\"#d8576b\"],[0.6666666666666666,\"#ed7953\"],[0.7777777777777778,\"#fb9f3a\"],[0.8888888888888888,\"#fdca26\"],[1.0,\"#f0f921\"]],\"type\":\"heatmap\"}],\"histogram2dcontour\":[{\"colorbar\":{\"outlinewidth\":0,\"ticks\":\"\"},\"colorscale\":[[0.0,\"#0d0887\"],[0.1111111111111111,\"#46039f\"],[0.2222222222222222,\"#7201a8\"],[0.3333333333333333,\"#9c179e\"],[0.4444444444444444,\"#bd3786\"],[0.5555555555555556,\"#d8576b\"],[0.6666666666666666,\"#ed7953\"],[0.7777777777777778,\"#fb9f3a\"],[0.8888888888888888,\"#fdca26\"],[1.0,\"#f0f921\"]],\"type\":\"histogram2dcontour\"}],\"histogram2d\":[{\"colorbar\":{\"outlinewidth\":0,\"ticks\":\"\"},\"colorscale\":[[0.0,\"#0d0887\"],[0.1111111111111111,\"#46039f\"],[0.2222222222222222,\"#7201a8\"],[0.3333333333333333,\"#9c179e\"],[0.4444444444444444,\"#bd3786\"],[0.5555555555555556,\"#d8576b\"],[0.6666666666666666,\"#ed7953\"],[0.7777777777777778,\"#fb9f3a\"],[0.8888888888888888,\"#fdca26\"],[1.0,\"#f0f921\"]],\"type\":\"histogram2d\"}],\"histogram\":[{\"marker\":{\"pattern\":{\"fillmode\":\"overlay\",\"size\":10,\"solidity\":0.2}},\"type\":\"histogram\"}],\"mesh3d\":[{\"colorbar\":{\"outlinewidth\":0,\"ticks\":\"\"},\"type\":\"mesh3d\"}],\"parcoords\":[{\"line\":{\"colorbar\":{\"outlinewidth\":0,\"ticks\":\"\"}},\"type\":\"parcoords\"}],\"pie\":[{\"automargin\":true,\"type\":\"pie\"}],\"scatter3d\":[{\"line\":{\"colorbar\":{\"outlinewidth\":0,\"ticks\":\"\"}},\"marker\":{\"colorbar\":{\"outlinewidth\":0,\"ticks\":\"\"}},\"type\":\"scatter3d\"}],\"scattercarpet\":[{\"marker\":{\"colorbar\":{\"outlinewidth\":0,\"ticks\":\"\"}},\"type\":\"scattercarpet\"}],\"scattergeo\":[{\"marker\":{\"colorbar\":{\"outlinewidth\":0,\"ticks\":\"\"}},\"type\":\"scattergeo\"}],\"scattergl\":[{\"marker\":{\"colorbar\":{\"outlinewidth\":0,\"ticks\":\"\"}},\"type\":\"scattergl\"}],\"scattermapbox\":[{\"marker\":{\"colorbar\":{\"outlinewidth\":0,\"ticks\":\"\"}},\"type\":\"scattermapbox\"}],\"scatterpolargl\":[{\"marker\":{\"colorbar\":{\"outlinewidth\":0,\"ticks\":\"\"}},\"type\":\"scatterpolargl\"}],\"scatterpolar\":[{\"marker\":{\"colorbar\":{\"outlinewidth\":0,\"ticks\":\"\"}},\"type\":\"scatterpolar\"}],\"scatter\":[{\"fillpattern\":{\"fillmode\":\"overlay\",\"size\":10,\"solidity\":0.2},\"type\":\"scatter\"}],\"scatterternary\":[{\"marker\":{\"colorbar\":{\"outlinewidth\":0,\"ticks\":\"\"}},\"type\":\"scatterternary\"}],\"surface\":[{\"colorbar\":{\"outlinewidth\":0,\"ticks\":\"\"},\"colorscale\":[[0.0,\"#0d0887\"],[0.1111111111111111,\"#46039f\"],[0.2222222222222222,\"#7201a8\"],[0.3333333333333333,\"#9c179e\"],[0.4444444444444444,\"#bd3786\"],[0.5555555555555556,\"#d8576b\"],[0.6666666666666666,\"#ed7953\"],[0.7777777777777778,\"#fb9f3a\"],[0.8888888888888888,\"#fdca26\"],[1.0,\"#f0f921\"]],\"type\":\"surface\"}],\"table\":[{\"cells\":{\"fill\":{\"color\":\"#EBF0F8\"},\"line\":{\"color\":\"white\"}},\"header\":{\"fill\":{\"color\":\"#C8D4E3\"},\"line\":{\"color\":\"white\"}},\"type\":\"table\"}]},\"layout\":{\"annotationdefaults\":{\"arrowcolor\":\"#2a3f5f\",\"arrowhead\":0,\"arrowwidth\":1},\"autotypenumbers\":\"strict\",\"coloraxis\":{\"colorbar\":{\"outlinewidth\":0,\"ticks\":\"\"}},\"colorscale\":{\"diverging\":[[0,\"#8e0152\"],[0.1,\"#c51b7d\"],[0.2,\"#de77ae\"],[0.3,\"#f1b6da\"],[0.4,\"#fde0ef\"],[0.5,\"#f7f7f7\"],[0.6,\"#e6f5d0\"],[0.7,\"#b8e186\"],[0.8,\"#7fbc41\"],[0.9,\"#4d9221\"],[1,\"#276419\"]],\"sequential\":[[0.0,\"#0d0887\"],[0.1111111111111111,\"#46039f\"],[0.2222222222222222,\"#7201a8\"],[0.3333333333333333,\"#9c179e\"],[0.4444444444444444,\"#bd3786\"],[0.5555555555555556,\"#d8576b\"],[0.6666666666666666,\"#ed7953\"],[0.7777777777777778,\"#fb9f3a\"],[0.8888888888888888,\"#fdca26\"],[1.0,\"#f0f921\"]],\"sequentialminus\":[[0.0,\"#0d0887\"],[0.1111111111111111,\"#46039f\"],[0.2222222222222222,\"#7201a8\"],[0.3333333333333333,\"#9c179e\"],[0.4444444444444444,\"#bd3786\"],[0.5555555555555556,\"#d8576b\"],[0.6666666666666666,\"#ed7953\"],[0.7777777777777778,\"#fb9f3a\"],[0.8888888888888888,\"#fdca26\"],[1.0,\"#f0f921\"]]},\"colorway\":[\"#636efa\",\"#EF553B\",\"#00cc96\",\"#ab63fa\",\"#FFA15A\",\"#19d3f3\",\"#FF6692\",\"#B6E880\",\"#FF97FF\",\"#FECB52\"],\"font\":{\"color\":\"#2a3f5f\"},\"geo\":{\"bgcolor\":\"white\",\"lakecolor\":\"white\",\"landcolor\":\"white\",\"showlakes\":true,\"showland\":true,\"subunitcolor\":\"#C8D4E3\"},\"hoverlabel\":{\"align\":\"left\"},\"hovermode\":\"closest\",\"mapbox\":{\"style\":\"light\"},\"paper_bgcolor\":\"white\",\"plot_bgcolor\":\"white\",\"polar\":{\"angularaxis\":{\"gridcolor\":\"#EBF0F8\",\"linecolor\":\"#EBF0F8\",\"ticks\":\"\"},\"bgcolor\":\"white\",\"radialaxis\":{\"gridcolor\":\"#EBF0F8\",\"linecolor\":\"#EBF0F8\",\"ticks\":\"\"}},\"scene\":{\"xaxis\":{\"backgroundcolor\":\"white\",\"gridcolor\":\"#DFE8F3\",\"gridwidth\":2,\"linecolor\":\"#EBF0F8\",\"showbackground\":true,\"ticks\":\"\",\"zerolinecolor\":\"#EBF0F8\"},\"yaxis\":{\"backgroundcolor\":\"white\",\"gridcolor\":\"#DFE8F3\",\"gridwidth\":2,\"linecolor\":\"#EBF0F8\",\"showbackground\":true,\"ticks\":\"\",\"zerolinecolor\":\"#EBF0F8\"},\"zaxis\":{\"backgroundcolor\":\"white\",\"gridcolor\":\"#DFE8F3\",\"gridwidth\":2,\"linecolor\":\"#EBF0F8\",\"showbackground\":true,\"ticks\":\"\",\"zerolinecolor\":\"#EBF0F8\"}},\"shapedefaults\":{\"line\":{\"color\":\"#2a3f5f\"}},\"ternary\":{\"aaxis\":{\"gridcolor\":\"#DFE8F3\",\"linecolor\":\"#A2B1C6\",\"ticks\":\"\"},\"baxis\":{\"gridcolor\":\"#DFE8F3\",\"linecolor\":\"#A2B1C6\",\"ticks\":\"\"},\"bgcolor\":\"white\",\"caxis\":{\"gridcolor\":\"#DFE8F3\",\"linecolor\":\"#A2B1C6\",\"ticks\":\"\"}},\"title\":{\"x\":0.05},\"xaxis\":{\"automargin\":true,\"gridcolor\":\"#EBF0F8\",\"linecolor\":\"#EBF0F8\",\"ticks\":\"\",\"title\":{\"standoff\":15},\"zerolinecolor\":\"#EBF0F8\",\"zerolinewidth\":2},\"yaxis\":{\"automargin\":true,\"gridcolor\":\"#EBF0F8\",\"linecolor\":\"#EBF0F8\",\"ticks\":\"\",\"title\":{\"standoff\":15},\"zerolinecolor\":\"#EBF0F8\",\"zerolinewidth\":2}}},\"xaxis\":{\"anchor\":\"y\",\"domain\":[0.0,1.0],\"title\":{\"text\":\"Predicted\"},\"tickfont\":{\"size\":12,\"family\":\"Helvetica\",\"color\":\"rgb(0,0,0)\"},\"showline\":true,\"showgrid\":true,\"zeroline\":false,\"linewidth\":3},\"yaxis\":{\"anchor\":\"x\",\"domain\":[0.0,1.0],\"title\":{\"text\":\"Residual\"},\"tickfont\":{\"size\":12,\"family\":\"Helvetica\",\"color\":\"rgb(0,0,0)\"},\"showticklabels\":true,\"range\":[-15,15],\"zeroline\":false,\"linewidth\":3,\"showline\":true,\"showgrid\":true},\"legend\":{\"tracegroupgap\":0},\"margin\":{\"t\":60},\"shapes\":[{\"line\":{\"dash\":\"dash\",\"width\":3},\"type\":\"line\",\"x0\":0,\"x1\":1,\"xref\":\"x domain\",\"y0\":0,\"y1\":0,\"yref\":\"y\"}],\"font\":{\"family\":\"Helvetica\",\"color\":\"#000000\",\"size\":14},\"showlegend\":false,\"height\":400,\"width\":400},                        {\"responsive\": true}                    ).then(function(){\n",
       "                            \n",
       "var gd = document.getElementById('5998644a-c2c8-4211-a57f-14b146233253');\n",
       "var x = new MutationObserver(function (mutations, observer) {{\n",
       "        var display = window.getComputedStyle(gd).display;\n",
       "        if (!display || display === 'none') {{\n",
       "            console.log([gd, 'removed!']);\n",
       "            Plotly.purge(gd);\n",
       "            observer.disconnect();\n",
       "        }}\n",
       "}});\n",
       "\n",
       "// Listen for the removal of the full notebook cells\n",
       "var notebookContainer = gd.closest('#notebook-container');\n",
       "if (notebookContainer) {{\n",
       "    x.observe(notebookContainer, {childList: true});\n",
       "}}\n",
       "\n",
       "// Listen for the clearing of the current output cell\n",
       "var outputEl = gd.closest('.output');\n",
       "if (outputEl) {{\n",
       "    x.observe(outputEl, {childList: true});\n",
       "}}\n",
       "\n",
       "                        })                };                });            </script>        </div>"
      ]
     },
     "metadata": {},
     "output_type": "display_data"
    }
   ],
   "source": [
    "import plotly.express as px\n",
    "import plotly.graph_objects as go\n",
    "color = [\"#E1462C\", \"#0059A0\", \"#5F3893\", \"#FF8777\",\"#0A2C6E\", \"#CEDEEB\"]\n",
    "\n",
    "if target == \"pce\":\n",
    "    y_true = test_set.scaler.inverse_transform(y_true.reshape(1, -1))[0]\n",
    "    y_pred = test_set.scaler.inverse_transform(y_pred.reshape(1, -1))[0]\n",
    "\n",
    "fig = px.scatter(x=y_pred, y=y_pred - y_true, #trendline=\"lowess\", trendline_color_override=color[3], trendline_options=dict(frac=0.9)\n",
    ")\n",
    "fig.update_traces(marker=dict(color=color[1]), line=dict(width=3))\n",
    "\n",
    "fig.add_hline(y=0, line=dict(dash='dash', width=3))\n",
    "\n",
    "fig.update_yaxes(title_text=\"Residual\", showticklabels = True,range = [-15,15] if target==\"pce\" else [-1000,1000], \n",
    "                 zeroline = False,linewidth=3, showline = True, showgrid=True,#range = [-4,2.1], \n",
    "                 tickfont= dict(size=12, family=\"Helvetica\", color=\"rgb(0,0,0)\")\n",
    ")\n",
    "fig.update_xaxes(title_text=\"Predicted\", showline = True, showgrid=True, zeroline = False , linewidth=3,# range = [-4,4], \n",
    "tickfont= dict(size=12, family=\"Helvetica\", color=\"rgb(0,0,0)\"))\n",
    "\n",
    "fig.update_layout(\n",
    "    showlegend=False,\n",
    "    template=\"plotly_white\",\n",
    "    height=400,\n",
    "    width=400,\n",
    "    font=dict(\n",
    "        family=\"Helvetica\",\n",
    "        color=\"#000000\",\n",
    "        size = 14\n",
    "    ),\n",
    ")\n",
    "\n",
    "fig.write_image(\"xai/images/\" +target+\"/3D/residual_plot.png\", scale=4)\n",
    "fig.show()"
   ]
  }
 ],
 "metadata": {
  "kernelspec": {
   "display_name": "perovskite",
   "language": "python",
   "name": "python3"
  },
  "language_info": {
   "codemirror_mode": {
    "name": "ipython",
    "version": 3
   },
   "file_extension": ".py",
   "mimetype": "text/x-python",
   "name": "python",
   "nbconvert_exporter": "python",
   "pygments_lexer": "ipython3",
   "version": "3.9.16"
  },
  "orig_nbformat": 4
 },
 "nbformat": 4,
 "nbformat_minor": 2
}
