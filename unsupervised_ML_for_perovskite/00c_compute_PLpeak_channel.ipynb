{
 "cells": [
  {
   "cell_type": "code",
   "execution_count": 12,
   "id": "b87a7941-2c4b-4471-ba6d-dca4efe07892",
   "metadata": {},
   "outputs": [
    {
     "data": {
      "text/plain": [
       "'/pfs/data5/home/kit/lti/rk3078/JupyterNotebooks/00_Publication01_Unsupervised_Clustering/ML_for_Perovskite_Luminescence_Data'"
      ]
     },
     "execution_count": 12,
     "metadata": {},
     "output_type": "execute_result"
    }
   ],
   "source": [
    "pwd"
   ]
  },
  {
   "cell_type": "code",
   "execution_count": 13,
   "id": "3adb3bfb-3b99-4c50-b528-96174e41d214",
   "metadata": {},
   "outputs": [],
   "source": [
    "# computation of the 5th channel of the dataset\n",
    "# since the computation has to be conducted for each single pixel for each time step \n",
    "# for each patch of each substrate, this process takes a long time (multiple 10's of hours)\n",
    "# e.g. 2min per patch for 1129 patches -> approx. 38 hours"
   ]
  },
  {
   "cell_type": "code",
   "execution_count": 14,
   "id": "3e59f0a4-2e57-472d-a4ea-202a876eb218",
   "metadata": {},
   "outputs": [],
   "source": [
    "import os\n",
    "import glob\n",
    "import numpy as np\n",
    "from tqdm import tqdm\n",
    "import matplotlib.pyplot as plt\n",
    "np.seterr(divide='ignore', invalid='ignore')\n",
    "\n",
    "# function to determine the set of values in lookup talbe, which are closest to the \n",
    "# one generate by dividing the actual experimantal images of the different channels \n",
    "# through each other. The returned index can then be used to determine the wavelength\n",
    "# of the peak of photolumnniscence (PL) spetrum (assuming the PL peak to have a gaussian\n",
    "# shape)\n",
    "def get_indices_of_closest_lookUp_value(lookUp_table_1, lookUp_table_2, exp_Value_1, exp_Value_2) :\n",
    "    \n",
    "    residual_squares_experimental_lookUp = np.sqrt(\n",
    "                     np.square(abs(np.subtract(lookUp_table_1, exp_Value_1)))\n",
    "                   + np.square(abs(np.subtract(lookUp_table_2, exp_Value_2))))\n",
    "\n",
    "    \n",
    "    flat_index_leastSquares = np.argmin(residual_squares_experimental_lookUp)\n",
    "\n",
    "    index_wavelength = int(flat_index_leastSquares / len(FWHMs))\n",
    "\n",
    "    return index_wavelength\n"
   ]
  },
  {
   "cell_type": "code",
   "execution_count": 15,
   "id": "292da707-eb4f-4579-b63c-c0be392ee694",
   "metadata": {},
   "outputs": [
    {
     "name": "stdout",
     "output_type": "stream",
     "text": [
      "lookup tables loaded successfully\n"
     ]
    }
   ],
   "source": [
    "# read-in look-up tables\n",
    "# the look-up tables were generated in the following way: \n",
    "# gaussians with PL peaks between 700nm and 810nm (1nm increments)\n",
    "# and full-width half-maxima (FWHM) between 20nm and 125nm (1nm increments)\n",
    "# were simulated and multiplied by the transmission of the pathways of the\n",
    "# different image channels (different spectral transmission of different \n",
    "# image channels and constant transmission of camera lens as well as\n",
    "# camera sensor sensitivity)  before calcluating the integral of each \n",
    "# channel. For each simulated gaussian, the integrated signal of channel 1\n",
    "# was divided by the integrated signal of channel 2 and saved in look-up \n",
    "# table 1 (same for channel 1 divide by channel 3 in look-up table 2).\n",
    "# Experimentally, the same ratios of intensities of the different channels\n",
    "# are computed from the acquired PL images. By finding the ratio-pair in the\n",
    "# look-up table which is closest to the experimental ratios, an \n",
    "# approximation of the PL spectrum peak wavelength is found.\n",
    "\n",
    "table1_filename = \"LookUp_Table_1.txt\"\n",
    "table2_filename = \"LookUp_Table_2.txt\"\n",
    "\n",
    "peakWavelengths = np.arange(700, 810 , 1)\n",
    "FWHMs = np.arange(20, 125, 1)\n",
    "\n",
    "if os.path.isfile(\"data_PLpeak_calculation\"+os.sep + table1_filename) and os.path.isfile(\"data_PLpeak_calculation\"+os.sep + table2_filename) :\n",
    "    \n",
    "    table1 = np.loadtxt(\"data_PLpeak_calculation\"+os.sep + table1_filename,unpack=True)\n",
    "    table2 = np.loadtxt(\"data_PLpeak_calculation\"+os.sep + table2_filename,unpack=True)\n",
    "\n",
    "    lookUp_table_1 = (np.transpose(table1)).flatten()\n",
    "    lookUp_table_2 = (np.transpose(table2)).flatten()\n",
    "    \n",
    "    print(\"lookup tables loaded successfully\")\n",
    "else:\n",
    "    print(\"error loading lookup tables\")\n"
   ]
  },
  {
   "cell_type": "code",
   "execution_count": 17,
   "id": "9820bfd2-4afd-4ec4-ac29-4a1277e844ec",
   "metadata": {},
   "outputs": [
    {
     "name": "stdout",
     "output_type": "stream",
     "text": [
      "test/ACE done\n",
      "test/ACG done\n",
      "test/ACI done\n",
      "test/ADB done\n",
      "test/ADF done\n",
      "test/ADH done\n",
      "test/ADT done\n",
      "test/AEA done\n",
      "test/AEB done\n",
      "test/AEE done\n"
     ]
    },
    {
     "name": "stderr",
     "output_type": "stream",
     "text": [
      "100%|██████████| 719/719 [01:49<00:00,  6.56it/s]\n"
     ]
    },
    {
     "name": "stdout",
     "output_type": "stream",
     "text": [
      "for  318 /1129 patches successfully added 5th channel, current:  test/AEH/81.npy\n"
     ]
    },
    {
     "name": "stderr",
     "output_type": "stream",
     "text": [
      "100%|██████████| 719/719 [01:49<00:00,  6.57it/s]\n"
     ]
    },
    {
     "name": "stdout",
     "output_type": "stream",
     "text": [
      "for  319 /1129 patches successfully added 5th channel, current:  test/AEH/82.npy\n"
     ]
    },
    {
     "name": "stderr",
     "output_type": "stream",
     "text": [
      "100%|██████████| 719/719 [01:49<00:00,  6.55it/s]\n"
     ]
    },
    {
     "name": "stdout",
     "output_type": "stream",
     "text": [
      "for  320 /1129 patches successfully added 5th channel, current:  test/AEH/83.npy\n"
     ]
    },
    {
     "name": "stderr",
     "output_type": "stream",
     "text": [
      "100%|██████████| 719/719 [01:49<00:00,  6.55it/s]\n"
     ]
    },
    {
     "name": "stdout",
     "output_type": "stream",
     "text": [
      "for  321 /1129 patches successfully added 5th channel, current:  test/AEH/84.npy\n",
      "test/AEH done\n"
     ]
    },
    {
     "name": "stderr",
     "output_type": "stream",
     "text": [
      "100%|██████████| 719/719 [01:50<00:00,  6.49it/s]\n"
     ]
    },
    {
     "name": "stdout",
     "output_type": "stream",
     "text": [
      "for  322 /1129 patches successfully added 5th channel, current:  test/AEL/11.npy\n"
     ]
    },
    {
     "name": "stderr",
     "output_type": "stream",
     "text": [
      "100%|██████████| 719/719 [01:49<00:00,  6.54it/s]\n"
     ]
    },
    {
     "name": "stdout",
     "output_type": "stream",
     "text": [
      "for  323 /1129 patches successfully added 5th channel, current:  test/AEL/12.npy\n"
     ]
    },
    {
     "name": "stderr",
     "output_type": "stream",
     "text": [
      "100%|██████████| 719/719 [01:49<00:00,  6.55it/s]\n"
     ]
    },
    {
     "name": "stdout",
     "output_type": "stream",
     "text": [
      "for  324 /1129 patches successfully added 5th channel, current:  test/AEL/13.npy\n"
     ]
    },
    {
     "name": "stderr",
     "output_type": "stream",
     "text": [
      "100%|██████████| 719/719 [01:49<00:00,  6.55it/s]\n"
     ]
    },
    {
     "name": "stdout",
     "output_type": "stream",
     "text": [
      "for  325 /1129 patches successfully added 5th channel, current:  test/AEL/14.npy\n"
     ]
    },
    {
     "name": "stderr",
     "output_type": "stream",
     "text": [
      "100%|██████████| 719/719 [01:49<00:00,  6.55it/s]\n"
     ]
    },
    {
     "name": "stdout",
     "output_type": "stream",
     "text": [
      "for  326 /1129 patches successfully added 5th channel, current:  test/AEL/21.npy\n"
     ]
    },
    {
     "name": "stderr",
     "output_type": "stream",
     "text": [
      "100%|██████████| 719/719 [01:49<00:00,  6.56it/s]\n"
     ]
    },
    {
     "name": "stdout",
     "output_type": "stream",
     "text": [
      "for  327 /1129 patches successfully added 5th channel, current:  test/AEL/22.npy\n"
     ]
    },
    {
     "name": "stderr",
     "output_type": "stream",
     "text": [
      "100%|██████████| 719/719 [01:49<00:00,  6.55it/s]\n"
     ]
    },
    {
     "name": "stdout",
     "output_type": "stream",
     "text": [
      "for  328 /1129 patches successfully added 5th channel, current:  test/AEL/23.npy\n"
     ]
    },
    {
     "name": "stderr",
     "output_type": "stream",
     "text": [
      " 39%|███▉      | 279/719 [00:41<01:05,  6.73it/s]\n"
     ]
    },
    {
     "ename": "KeyboardInterrupt",
     "evalue": "",
     "output_type": "error",
     "traceback": [
      "\u001b[0;31m---------------------------------------------------------------------------\u001b[0m",
      "\u001b[0;31mKeyboardInterrupt\u001b[0m                         Traceback (most recent call last)",
      "Input \u001b[0;32mIn [17]\u001b[0m, in \u001b[0;36m<cell line: 6>\u001b[0;34m()\u001b[0m\n\u001b[1;32m     80\u001b[0m exp_Value_2 \u001b[38;5;241m=\u001b[39m image_channel_ratio_2[pixelNumber];\n\u001b[1;32m     82\u001b[0m \u001b[38;5;66;03m# get index of simulated gaussian which is closest to the expermental values\u001b[39;00m\n\u001b[0;32m---> 83\u001b[0m index_wavelength \u001b[38;5;241m=\u001b[39m \u001b[43mget_indices_of_closest_lookUp_value\u001b[49m\u001b[43m(\u001b[49m\u001b[43mlookUp_table_1\u001b[49m\u001b[43m,\u001b[49m\u001b[43m \u001b[49m\u001b[43mlookUp_table_2\u001b[49m\u001b[43m,\u001b[49m\u001b[43m \u001b[49m\u001b[43mexp_Value_1\u001b[49m\u001b[43m,\u001b[49m\u001b[43m \u001b[49m\u001b[43mexp_Value_2\u001b[49m\u001b[43m)\u001b[49m\n\u001b[1;32m     85\u001b[0m \u001b[38;5;66;03m# get corresponding wavelength of computed index \u001b[39;00m\n\u001b[1;32m     86\u001b[0m resultWavelengthsArray[pixelNumber] \u001b[38;5;241m=\u001b[39m peakWavelengths[index_wavelength]\n",
      "Input \u001b[0;32mIn [14]\u001b[0m, in \u001b[0;36mget_indices_of_closest_lookUp_value\u001b[0;34m(lookUp_table_1, lookUp_table_2, exp_Value_1, exp_Value_2)\u001b[0m\n\u001b[1;32m     13\u001b[0m \u001b[38;5;28;01mdef\u001b[39;00m \u001b[38;5;21mget_indices_of_closest_lookUp_value\u001b[39m(lookUp_table_1, lookUp_table_2, exp_Value_1, exp_Value_2) :\n\u001b[1;32m     15\u001b[0m     residual_squares_experimental_lookUp \u001b[38;5;241m=\u001b[39m np\u001b[38;5;241m.\u001b[39msqrt(\n\u001b[1;32m     16\u001b[0m                      np\u001b[38;5;241m.\u001b[39msquare(\u001b[38;5;28mabs\u001b[39m(np\u001b[38;5;241m.\u001b[39msubtract(lookUp_table_1, exp_Value_1)))\n\u001b[1;32m     17\u001b[0m                    \u001b[38;5;241m+\u001b[39m np\u001b[38;5;241m.\u001b[39msquare(\u001b[38;5;28mabs\u001b[39m(np\u001b[38;5;241m.\u001b[39msubtract(lookUp_table_2, exp_Value_2))))\n\u001b[0;32m---> 20\u001b[0m     flat_index_leastSquares \u001b[38;5;241m=\u001b[39m \u001b[43mnp\u001b[49m\u001b[38;5;241;43m.\u001b[39;49m\u001b[43margmin\u001b[49m\u001b[43m(\u001b[49m\u001b[43mresidual_squares_experimental_lookUp\u001b[49m\u001b[43m)\u001b[49m\n\u001b[1;32m     22\u001b[0m     index_wavelength \u001b[38;5;241m=\u001b[39m \u001b[38;5;28mint\u001b[39m(flat_index_leastSquares \u001b[38;5;241m/\u001b[39m \u001b[38;5;28mlen\u001b[39m(FWHMs))\n\u001b[1;32m     24\u001b[0m     \u001b[38;5;28;01mreturn\u001b[39;00m index_wavelength\n",
      "File \u001b[0;32m<__array_function__ internals>:180\u001b[0m, in \u001b[0;36margmin\u001b[0;34m(*args, **kwargs)\u001b[0m\n",
      "File \u001b[0;32m/opt/bwhpc/common/jupyter/tensorflow/2022-03-30/lib/python3.8/site-packages/numpy/core/fromnumeric.py:1312\u001b[0m, in \u001b[0;36margmin\u001b[0;34m(a, axis, out, keepdims)\u001b[0m\n\u001b[1;32m   1225\u001b[0m \u001b[38;5;124;03m\"\"\"\u001b[39;00m\n\u001b[1;32m   1226\u001b[0m \u001b[38;5;124;03mReturns the indices of the minimum values along an axis.\u001b[39;00m\n\u001b[1;32m   1227\u001b[0m \n\u001b[0;32m   (...)\u001b[0m\n\u001b[1;32m   1309\u001b[0m \u001b[38;5;124;03m(2, 1, 4)\u001b[39;00m\n\u001b[1;32m   1310\u001b[0m \u001b[38;5;124;03m\"\"\"\u001b[39;00m\n\u001b[1;32m   1311\u001b[0m kwds \u001b[38;5;241m=\u001b[39m {\u001b[38;5;124m'\u001b[39m\u001b[38;5;124mkeepdims\u001b[39m\u001b[38;5;124m'\u001b[39m: keepdims} \u001b[38;5;28;01mif\u001b[39;00m keepdims \u001b[38;5;129;01mis\u001b[39;00m \u001b[38;5;129;01mnot\u001b[39;00m np\u001b[38;5;241m.\u001b[39m_NoValue \u001b[38;5;28;01melse\u001b[39;00m {}\n\u001b[0;32m-> 1312\u001b[0m \u001b[38;5;28;01mreturn\u001b[39;00m \u001b[43m_wrapfunc\u001b[49m\u001b[43m(\u001b[49m\u001b[43ma\u001b[49m\u001b[43m,\u001b[49m\u001b[43m \u001b[49m\u001b[38;5;124;43m'\u001b[39;49m\u001b[38;5;124;43margmin\u001b[39;49m\u001b[38;5;124;43m'\u001b[39;49m\u001b[43m,\u001b[49m\u001b[43m \u001b[49m\u001b[43maxis\u001b[49m\u001b[38;5;241;43m=\u001b[39;49m\u001b[43maxis\u001b[49m\u001b[43m,\u001b[49m\u001b[43m \u001b[49m\u001b[43mout\u001b[49m\u001b[38;5;241;43m=\u001b[39;49m\u001b[43mout\u001b[49m\u001b[43m,\u001b[49m\u001b[43m \u001b[49m\u001b[38;5;241;43m*\u001b[39;49m\u001b[38;5;241;43m*\u001b[39;49m\u001b[43mkwds\u001b[49m\u001b[43m)\u001b[49m\n",
      "File \u001b[0;32m/opt/bwhpc/common/jupyter/tensorflow/2022-03-30/lib/python3.8/site-packages/numpy/core/fromnumeric.py:57\u001b[0m, in \u001b[0;36m_wrapfunc\u001b[0;34m(obj, method, *args, **kwds)\u001b[0m\n\u001b[1;32m     54\u001b[0m     \u001b[38;5;28;01mreturn\u001b[39;00m _wrapit(obj, method, \u001b[38;5;241m*\u001b[39margs, \u001b[38;5;241m*\u001b[39m\u001b[38;5;241m*\u001b[39mkwds)\n\u001b[1;32m     56\u001b[0m \u001b[38;5;28;01mtry\u001b[39;00m:\n\u001b[0;32m---> 57\u001b[0m     \u001b[38;5;28;01mreturn\u001b[39;00m \u001b[43mbound\u001b[49m\u001b[43m(\u001b[49m\u001b[38;5;241;43m*\u001b[39;49m\u001b[43margs\u001b[49m\u001b[43m,\u001b[49m\u001b[43m \u001b[49m\u001b[38;5;241;43m*\u001b[39;49m\u001b[38;5;241;43m*\u001b[39;49m\u001b[43mkwds\u001b[49m\u001b[43m)\u001b[49m\n\u001b[1;32m     58\u001b[0m \u001b[38;5;28;01mexcept\u001b[39;00m \u001b[38;5;167;01mTypeError\u001b[39;00m:\n\u001b[1;32m     59\u001b[0m     \u001b[38;5;66;03m# A TypeError occurs if the object does have such a method in its\u001b[39;00m\n\u001b[1;32m     60\u001b[0m     \u001b[38;5;66;03m# class, but its signature is not identical to that of NumPy's. This\u001b[39;00m\n\u001b[0;32m   (...)\u001b[0m\n\u001b[1;32m     64\u001b[0m     \u001b[38;5;66;03m# Call _wrapit from within the except clause to ensure a potential\u001b[39;00m\n\u001b[1;32m     65\u001b[0m     \u001b[38;5;66;03m# exception has a traceback chain.\u001b[39;00m\n\u001b[1;32m     66\u001b[0m     \u001b[38;5;28;01mreturn\u001b[39;00m _wrapit(obj, method, \u001b[38;5;241m*\u001b[39margs, \u001b[38;5;241m*\u001b[39m\u001b[38;5;241m*\u001b[39mkwds)\n",
      "\u001b[0;31mKeyboardInterrupt\u001b[0m: "
     ]
    }
   ],
   "source": [
    "dataset_path=\"/pfs/work7/workspace/scratch/rk3078-WorkSpace04a/ExperimentalData/insitu/01_croppedData/preprocessed_tryingout/\"\n",
    "counter=0\n",
    "\n",
    "# iterate through the two folders of the subsets \"test\" and \"train\"\n",
    "subset_info = sorted(glob.glob(dataset_path  +'*'))\n",
    "for subset_iter in range(len(subset_info)):\n",
    "    \n",
    "    subset_path=subset_info[subset_iter]+\"/\"\n",
    "    substrate_info = sorted(glob.glob(subset_path  +'A*'))\n",
    "    \n",
    "    # get list of all substrates in current subset and iterate through the substrates\n",
    "    for substrate_iter in range(len(substrate_info)):\n",
    "\n",
    "        substrate_path=substrate_info[substrate_iter]\n",
    "        patch_info = sorted(glob.glob(substrate_path  +'/*'))\n",
    "        \n",
    "        # get list of all patches in current substrate and iterate through the patches\n",
    "        for patch_iter in range(len(patch_info)):\n",
    "            \n",
    "            # load the numpy array\n",
    "            patch_path=patch_info[patch_iter]\n",
    "            patch_4_channels=np.load(patch_path).astype('float')\n",
    "\n",
    "            # check, if the loaded data of the current patch has 4 channels.\n",
    "            # if yes, continue with computation, if no, then the 5th channel\n",
    "            # has already been added for this patch before -> continue with \n",
    "            # with next patch\n",
    "            if patch_4_channels.shape[1]==4:\n",
    "                \n",
    "                # for all channels, the first image is used as background without PL signal to be subtracted from each following image\n",
    "                lp725_channel_background = patch_4_channels[0,1,:,:]\n",
    "                lp780_channel_background = patch_4_channels[0,2,:,:]\n",
    "                sp775_channel_background = patch_4_channels[0,3,:,:]\n",
    "                \n",
    "                # the data of the 3 PL channels is extracted\n",
    "                lp725_channel = patch_4_channels[:,1,:,:]\n",
    "                lp780_channel = patch_4_channels[:,2,:,:]\n",
    "                sp775_channel = patch_4_channels[:,3,:,:]\n",
    "                \n",
    "                \n",
    "                # for the 3 channels, subtract channel background\n",
    "                lp725_channel_backgroundCorrected = lp725_channel - lp725_channel_background\n",
    "                lp780_channel_backgroundCorrected = lp780_channel - lp780_channel_background\n",
    "                sp775_channel_backgroundCorrected = sp775_channel - sp775_channel_background\n",
    "\n",
    "                # if background correction leads to value smaller than 0, set it to 0 \n",
    "                # (only the case in the beginning when there is only noise and no PL signal yet)\n",
    "                lp725_channel_backgroundCorrected[lp725_channel_backgroundCorrected<0] =  0  \n",
    "                lp780_channel_backgroundCorrected[lp780_channel_backgroundCorrected<0] =  0    \n",
    "                sp775_channel_backgroundCorrected[sp775_channel_backgroundCorrected<0] =  0\n",
    "                    \n",
    "                    \n",
    "\n",
    "                # dimensions of the images\n",
    "                height=65 \n",
    "                width=56\n",
    "                # container used for data to be added as 5th channel\n",
    "                plPeakData = np.zeros((719,height,width))\n",
    "\n",
    "                # iterate through all time steps\n",
    "                for timeframe_iter in tqdm(range(719)):\n",
    "                    \n",
    "                    # for the 3 channels, get the image of the current time step                \n",
    "                    lp725_channel_currentFrame_backgroundCorrected = lp725_channel_backgroundCorrected[timeframe_iter,:,:]\n",
    "                    lp780_channel_currentFrame_backgroundCorrected = lp780_channel_backgroundCorrected[timeframe_iter,:,:]\n",
    "                    sp775_channel_currentFrame_backgroundCorrected = sp775_channel_backgroundCorrected[timeframe_iter,:,:]\n",
    "                    \n",
    "                    # generate experimental ratios for filter1/filter2 and filter1/filter3 \n",
    "                    image_channel_ratio_1 = np.divide(lp725_channel_currentFrame_backgroundCorrected,lp780_channel_currentFrame_backgroundCorrected).flatten();\n",
    "                    image_channel_ratio_2 = np.divide(lp725_channel_currentFrame_backgroundCorrected,sp775_channel_currentFrame_backgroundCorrected).flatten();\n",
    "                    \n",
    "                    # container used for computed wavelengths\n",
    "                    resultWavelengthsArray = np.array([0.0]*height*width).flatten();\n",
    "                    \n",
    "                    # iterate through all pixels in flattened image\n",
    "                    for pixelNumber in range(len(resultWavelengthsArray)):\n",
    "                        \n",
    "                        # get experimental ratios (filter1/filter2 and filter1/filter3) of the current pixel\n",
    "                        exp_Value_1 = image_channel_ratio_1[pixelNumber];\n",
    "                        exp_Value_2 = image_channel_ratio_2[pixelNumber];\n",
    "                        \n",
    "                        # get index of simulated gaussian which is closest to the expermental values\n",
    "                        index_wavelength = get_indices_of_closest_lookUp_value(lookUp_table_1, lookUp_table_2, exp_Value_1, exp_Value_2)\n",
    "\n",
    "                        # get corresponding wavelength of computed index \n",
    "                        resultWavelengthsArray[pixelNumber] = peakWavelengths[index_wavelength]\n",
    "\n",
    "                    # bring flatten wavelength array back to shape of the image\n",
    "                    resultWavelengthsArray=np.reshape(resultWavelengthsArray,(height, width))\n",
    "\n",
    "                    # add computed wavelength image to container at current time step\n",
    "                    plPeakData[timeframe_iter,:,:]=resultWavelengthsArray\n",
    "\n",
    "\n",
    "\n",
    "                # add computed 5th channel to the original 4 channels\n",
    "                patch_5_channels = np.concatenate((patch_4_channels, np.expand_dims(plPeakData, axis=(1))),axis=1)\n",
    "\n",
    "\n",
    "                # save the data by over-writing the 4-channel data of the patch with the 5-channel data\n",
    "                if True:    \n",
    "                    np.save(patch_path, patch_5_channels.astype('uint16'))\n",
    "                    print(\"for \", counter+1, \"/1129 patches successfully added 5th channel, current: \", '/'.join(patch_path.split(\"/\")[-3:]))\n",
    "                    counter+=1\n",
    "\n",
    "\n",
    "            else:\n",
    "                counter+=1                 \n",
    "\n",
    "\n",
    "        print('/'.join(substrate_path.split(\"/\")[-2:]), \"done\")\n",
    "                \n",
    "        \n",
    "            "
   ]
  },
  {
   "cell_type": "code",
   "execution_count": null,
   "id": "d1ce49d4-42d2-4f58-b222-e41c2a28187d",
   "metadata": {},
   "outputs": [],
   "source": []
  },
  {
   "cell_type": "code",
   "execution_count": null,
   "id": "8d134e59-4d2d-4550-a4cc-3f8b94d6b4dc",
   "metadata": {},
   "outputs": [],
   "source": []
  }
 ],
 "metadata": {
  "kernelspec": {
   "display_name": "Python 3 (ipykernel)",
   "language": "python",
   "name": "python3"
  },
  "language_info": {
   "codemirror_mode": {
    "name": "ipython",
    "version": 3
   },
   "file_extension": ".py",
   "mimetype": "text/x-python",
   "name": "python",
   "nbconvert_exporter": "python",
   "pygments_lexer": "ipython3",
   "version": "3.8.6"
  }
 },
 "nbformat": 4,
 "nbformat_minor": 5
}
